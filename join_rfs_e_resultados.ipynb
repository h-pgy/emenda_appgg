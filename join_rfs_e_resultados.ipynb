{
 "cells": [
  {
   "cell_type": "markdown",
   "id": "12ee915b-9b5f-4c49-8bc3-4c0f5c90c86a",
   "metadata": {},
   "source": [
    "### Resultados Votação\n",
    "\n",
    "Neste notebook, calculamos os resultados finais da votação.\n",
    "\n",
    "Serão realizadas 4 principais etapas de limpeza dos dados:\n",
    "\n",
    "1. Join com a base de dados servidores ativos por meio dos RFs.\n",
    "\n",
    "2. Remoção dos votos que foram feitos com RFs inexistentes ou que não correspondem a membros da carreira dos APPGs.\n",
    "\n",
    "3. Identificação dos APPGGs que não votaram, mas estão na base de servidores ativos (abstenções).\n",
    "\n",
    "4. Tratamento dos votos duplicados.\n",
    "\n",
    "E 2 etapas de processamento:\n",
    "\n",
    "1. Cálculo dos resultados gerais, contando faltantes e abstenções.\n",
    "\n",
    "2. Cálculo dos resultados finais, apenas com votos válidos (sem contar faltantes e asbtenções)."
   ]
  },
  {
   "cell_type": "code",
   "execution_count": 1,
   "id": "576c8a92-9af2-4f86-a2da-7d288ec47516",
   "metadata": {},
   "outputs": [],
   "source": [
    "import pandas as pd\n",
    "from zipfile import ZipFile\n",
    "import os\n",
    "import requests\n",
    "import matplotlib.pyplot as plt\n",
    "import seaborn as sns"
   ]
  },
  {
   "cell_type": "code",
   "execution_count": 2,
   "id": "2b63794f-bd07-48b9-bf29-efec8c3497d7",
   "metadata": {},
   "outputs": [],
   "source": [
    "sns.set()\n",
    "pd.set_option('display.max_columns', None)"
   ]
  },
  {
   "cell_type": "markdown",
   "id": "2e1e0ad0-8ffa-4b9e-980b-6a8e83112492",
   "metadata": {},
   "source": [
    "#### Download da base mais recente de servidores ativos.\n",
    "\n",
    "Dados extraídos do portal de dados abertos, no conjunto da relação de servidores ativos: http://dados.prefeitura.sp.gov.br/dataset/servidores-ativos-da-prefeitura\n"
   ]
  },
  {
   "cell_type": "code",
   "execution_count": 3,
   "id": "e93e3b12-8f26-4a39-b8ae-d799c44575e9",
   "metadata": {},
   "outputs": [],
   "source": [
    "url = (\n",
    "       'http://dados.prefeitura.sp.gov.br/'\n",
    "       'dataset/bf5df0f4-4fb0-4a5e-b013-07d098cc7b1c/'\n",
    "       'resource/40a9c9ef-55b9-41e3-9879-5f74b37b7352/'\n",
    "       'download/verificadoativos02-05-2023abr-2023.csv'\n",
    "      )"
   ]
  },
  {
   "cell_type": "code",
   "execution_count": 4,
   "id": "fcf57fb0-c6cd-4473-a8df-40ea6be26610",
   "metadata": {},
   "outputs": [],
   "source": [
    "with requests.get(url) as r:\n",
    "    csv_content = r.text"
   ]
  },
  {
   "cell_type": "markdown",
   "id": "ff60146e-b3d8-4985-bbe5-73dea2763a56",
   "metadata": {},
   "source": [
    "Checando para ver qual o separador"
   ]
  },
  {
   "cell_type": "code",
   "execution_count": 5,
   "id": "c7822bdc-dbde-4ca5-a17e-5f2566da6420",
   "metadata": {},
   "outputs": [
    {
     "data": {
      "text/plain": [
       "'REGISTRO;V'"
      ]
     },
     "execution_count": 5,
     "metadata": {},
     "output_type": "execute_result"
    }
   ],
   "source": [
    "csv_content[:10]"
   ]
  },
  {
   "cell_type": "code",
   "execution_count": 6,
   "id": "4ae66c80-4345-486a-881d-b1c155b5b698",
   "metadata": {},
   "outputs": [],
   "source": [
    "#vou salvar para subir no repositório para efeitos de transparência\n",
    "#podia apenas ter abrido no pandas direto usando StringIO\n",
    "with open('servidores_ativos_abril_2023.csv', 'w', encoding='utf-8') as f:\n",
    "    f.write(csv_content)"
   ]
  },
  {
   "cell_type": "code",
   "execution_count": 7,
   "id": "2a155268-d599-49e6-89a7-861cb6d884b1",
   "metadata": {},
   "outputs": [],
   "source": [
    "servidores = pd.read_csv('servidores_ativos_abril_2023.csv', sep=';')    "
   ]
  },
  {
   "cell_type": "code",
   "execution_count": 8,
   "id": "4094bf23-f787-4c11-945b-88eab9ec09e6",
   "metadata": {},
   "outputs": [
    {
     "data": {
      "text/html": [
       "<div>\n",
       "<style scoped>\n",
       "    .dataframe tbody tr th:only-of-type {\n",
       "        vertical-align: middle;\n",
       "    }\n",
       "\n",
       "    .dataframe tbody tr th {\n",
       "        vertical-align: top;\n",
       "    }\n",
       "\n",
       "    .dataframe thead th {\n",
       "        text-align: right;\n",
       "    }\n",
       "</style>\n",
       "<table border=\"1\" class=\"dataframe\">\n",
       "  <thead>\n",
       "    <tr style=\"text-align: right;\">\n",
       "      <th></th>\n",
       "      <th>REGISTRO</th>\n",
       "      <th>VINCULO</th>\n",
       "      <th>NOME</th>\n",
       "      <th>CARGO_BASICO</th>\n",
       "      <th>REF_CARGO_BAS</th>\n",
       "      <th>SEGMENTO</th>\n",
       "      <th>GRUPO</th>\n",
       "      <th>SUBGRUPO</th>\n",
       "      <th>ESCOL_CARGO_BASICO</th>\n",
       "      <th>CARGO_COMISSAO</th>\n",
       "      <th>REF_CARGO_COM</th>\n",
       "      <th>ESCOL_CARGO_COMISSAO</th>\n",
       "      <th>JORNADA</th>\n",
       "      <th>DATA_INICIO_EXERC</th>\n",
       "      <th>REL_JUR_ADM</th>\n",
       "      <th>SECRET_SUBPREF</th>\n",
       "      <th>SETOR</th>\n",
       "      <th>ORGAO_EXT</th>\n",
       "      <th>SEXO</th>\n",
       "      <th>ANO_NASCIMENTO</th>\n",
       "      <th>RACA</th>\n",
       "      <th>DEFICIENTE</th>\n",
       "    </tr>\n",
       "  </thead>\n",
       "  <tbody>\n",
       "    <tr>\n",
       "      <th>0</th>\n",
       "      <td>1145541</td>\n",
       "      <td>16</td>\n",
       "      <td>CLEUZA BORGES PEREIRA SILVA</td>\n",
       "      <td>ASSESSOR IV</td>\n",
       "      <td>CDA-4</td>\n",
       "      <td>NaN</td>\n",
       "      <td>QC</td>\n",
       "      <td>CARGO EM COMISSAO</td>\n",
       "      <td>NAO SE APLICA</td>\n",
       "      <td>NaN</td>\n",
       "      <td>NaN</td>\n",
       "      <td>NaN</td>\n",
       "      <td>40 H</td>\n",
       "      <td>01/06/2022</td>\n",
       "      <td>EM COMISSAO</td>\n",
       "      <td>SECRETARIA MUNICIPAL DE GESTAO</td>\n",
       "      <td>ASSESSORIA JURIDICA</td>\n",
       "      <td>NaN</td>\n",
       "      <td>F</td>\n",
       "      <td>1949</td>\n",
       "      <td>PARDA</td>\n",
       "      <td>NAO</td>\n",
       "    </tr>\n",
       "    <tr>\n",
       "      <th>1</th>\n",
       "      <td>1154231</td>\n",
       "      <td>2</td>\n",
       "      <td>IOLANDA RIGON</td>\n",
       "      <td>FISCAL DE POSTURAS MUNICIPAIS NIVEL III</td>\n",
       "      <td>QFPM14</td>\n",
       "      <td>NaN</td>\n",
       "      <td>QFPM</td>\n",
       "      <td>SUPERIOR</td>\n",
       "      <td>SUPERIOR COMPLETO</td>\n",
       "      <td>NaN</td>\n",
       "      <td>NaN</td>\n",
       "      <td>NaN</td>\n",
       "      <td>40 H</td>\n",
       "      <td>07/10/1992</td>\n",
       "      <td>EFETIVO</td>\n",
       "      <td>SUBPREFEITURA LAPA</td>\n",
       "      <td>UNIDADE TECNICA DE FISCALIZACAO</td>\n",
       "      <td>NaN</td>\n",
       "      <td>F</td>\n",
       "      <td>1949</td>\n",
       "      <td>BRANCA</td>\n",
       "      <td>NAO</td>\n",
       "    </tr>\n",
       "    <tr>\n",
       "      <th>2</th>\n",
       "      <td>1159470</td>\n",
       "      <td>2</td>\n",
       "      <td>JOSE EDUARDO SOARES DE CASTRO</td>\n",
       "      <td>ANALISTA DE INFORMACOES CULTURA E DESPORTO (NQ...</td>\n",
       "      <td>QDHS17</td>\n",
       "      <td>BIBLIOTECONOMIA</td>\n",
       "      <td>QDHS</td>\n",
       "      <td>SUPERIOR</td>\n",
       "      <td>SUPERIOR COMPLETO</td>\n",
       "      <td>NaN</td>\n",
       "      <td>NaN</td>\n",
       "      <td>NaN</td>\n",
       "      <td>40 H</td>\n",
       "      <td>13/08/1982</td>\n",
       "      <td>EFETIVO</td>\n",
       "      <td>PROCURADORIA GERAL DO MUNICIPIO</td>\n",
       "      <td>CENTRO ESTUDOS JURIDICOS - CEJUR</td>\n",
       "      <td>NaN</td>\n",
       "      <td>M</td>\n",
       "      <td>1951</td>\n",
       "      <td>BRANCA</td>\n",
       "      <td>NAO</td>\n",
       "    </tr>\n",
       "    <tr>\n",
       "      <th>3</th>\n",
       "      <td>1160478</td>\n",
       "      <td>2</td>\n",
       "      <td>JULIO DE CARVALHO</td>\n",
       "      <td>FISCAL DE POSTURAS MUNICIPAIS NIVEL III</td>\n",
       "      <td>QFPM13</td>\n",
       "      <td>NaN</td>\n",
       "      <td>QFPM</td>\n",
       "      <td>SUPERIOR</td>\n",
       "      <td>SUPERIOR COMPLETO</td>\n",
       "      <td>NaN</td>\n",
       "      <td>NaN</td>\n",
       "      <td>NaN</td>\n",
       "      <td>40 H</td>\n",
       "      <td>15/12/1981</td>\n",
       "      <td>EFETIVO</td>\n",
       "      <td>SUBPREFEITURA SANTANA/TUCURUVI</td>\n",
       "      <td>SUPERVISÃO TECNICA DE FISCALIZACAO</td>\n",
       "      <td>NaN</td>\n",
       "      <td>M</td>\n",
       "      <td>1951</td>\n",
       "      <td>BRANCA</td>\n",
       "      <td>NAO</td>\n",
       "    </tr>\n",
       "    <tr>\n",
       "      <th>4</th>\n",
       "      <td>1161181</td>\n",
       "      <td>9</td>\n",
       "      <td>NEUSA PEDRAO NASSIR</td>\n",
       "      <td>ASSESSOR V</td>\n",
       "      <td>CDA-5</td>\n",
       "      <td>NaN</td>\n",
       "      <td>QC</td>\n",
       "      <td>CARGO EM COMISSAO</td>\n",
       "      <td>NAO SE APLICA</td>\n",
       "      <td>NaN</td>\n",
       "      <td>NaN</td>\n",
       "      <td>NaN</td>\n",
       "      <td>40 H</td>\n",
       "      <td>01/06/2022</td>\n",
       "      <td>EM COMISSAO</td>\n",
       "      <td>SECRETARIA DO GOVERNO MUNICIPAL</td>\n",
       "      <td>ASSESSORIA JURIDICA</td>\n",
       "      <td>NaN</td>\n",
       "      <td>F</td>\n",
       "      <td>1947</td>\n",
       "      <td>BRANCA</td>\n",
       "      <td>NAO</td>\n",
       "    </tr>\n",
       "  </tbody>\n",
       "</table>\n",
       "</div>"
      ],
      "text/plain": [
       "   REGISTRO  VINCULO                           NOME  \\\n",
       "0   1145541       16    CLEUZA BORGES PEREIRA SILVA   \n",
       "1   1154231        2                  IOLANDA RIGON   \n",
       "2   1159470        2  JOSE EDUARDO SOARES DE CASTRO   \n",
       "3   1160478        2              JULIO DE CARVALHO   \n",
       "4   1161181        9            NEUSA PEDRAO NASSIR   \n",
       "\n",
       "                                        CARGO_BASICO REF_CARGO_BAS  \\\n",
       "0                                        ASSESSOR IV         CDA-4   \n",
       "1            FISCAL DE POSTURAS MUNICIPAIS NIVEL III        QFPM14   \n",
       "2  ANALISTA DE INFORMACOES CULTURA E DESPORTO (NQ...        QDHS17   \n",
       "3            FISCAL DE POSTURAS MUNICIPAIS NIVEL III        QFPM13   \n",
       "4                                         ASSESSOR V         CDA-5   \n",
       "\n",
       "          SEGMENTO GRUPO           SUBGRUPO ESCOL_CARGO_BASICO CARGO_COMISSAO  \\\n",
       "0              NaN    QC  CARGO EM COMISSAO      NAO SE APLICA            NaN   \n",
       "1              NaN  QFPM           SUPERIOR  SUPERIOR COMPLETO            NaN   \n",
       "2  BIBLIOTECONOMIA  QDHS           SUPERIOR  SUPERIOR COMPLETO            NaN   \n",
       "3              NaN  QFPM           SUPERIOR  SUPERIOR COMPLETO            NaN   \n",
       "4              NaN    QC  CARGO EM COMISSAO      NAO SE APLICA            NaN   \n",
       "\n",
       "  REF_CARGO_COM ESCOL_CARGO_COMISSAO JORNADA DATA_INICIO_EXERC  REL_JUR_ADM  \\\n",
       "0           NaN                  NaN    40 H        01/06/2022  EM COMISSAO   \n",
       "1           NaN                  NaN    40 H        07/10/1992      EFETIVO   \n",
       "2           NaN                  NaN    40 H        13/08/1982      EFETIVO   \n",
       "3           NaN                  NaN    40 H        15/12/1981      EFETIVO   \n",
       "4           NaN                  NaN    40 H        01/06/2022  EM COMISSAO   \n",
       "\n",
       "                    SECRET_SUBPREF                               SETOR  \\\n",
       "0   SECRETARIA MUNICIPAL DE GESTAO                 ASSESSORIA JURIDICA   \n",
       "1               SUBPREFEITURA LAPA     UNIDADE TECNICA DE FISCALIZACAO   \n",
       "2  PROCURADORIA GERAL DO MUNICIPIO    CENTRO ESTUDOS JURIDICOS - CEJUR   \n",
       "3   SUBPREFEITURA SANTANA/TUCURUVI  SUPERVISÃO TECNICA DE FISCALIZACAO   \n",
       "4  SECRETARIA DO GOVERNO MUNICIPAL                 ASSESSORIA JURIDICA   \n",
       "\n",
       "  ORGAO_EXT SEXO  ANO_NASCIMENTO    RACA DEFICIENTE  \n",
       "0       NaN    F            1949   PARDA        NAO  \n",
       "1       NaN    F            1949  BRANCA        NAO  \n",
       "2       NaN    M            1951  BRANCA        NAO  \n",
       "3       NaN    M            1951  BRANCA        NAO  \n",
       "4       NaN    F            1947  BRANCA        NAO  "
      ]
     },
     "execution_count": 8,
     "metadata": {},
     "output_type": "execute_result"
    }
   ],
   "source": [
    "servidores.head()"
   ]
  },
  {
   "cell_type": "markdown",
   "id": "3209431b-2676-4b20-94d4-ff47c50459f4",
   "metadata": {},
   "source": [
    "#### Identificação dos membros da carreira\n",
    "\n",
    "A seguir filtramos a base de servidores para identificar os membros da carreira dos APPGGs."
   ]
  },
  {
   "cell_type": "code",
   "execution_count": 9,
   "id": "297e4267-cdb8-44a1-bf54-0ad5b09e9aa3",
   "metadata": {},
   "outputs": [],
   "source": [
    "cargos_unicos = servidores['CARGO_BASICO'].unique()"
   ]
  },
  {
   "cell_type": "markdown",
   "id": "c93d878d-ef4f-441c-8956-3d08e3dacb6f",
   "metadata": {},
   "source": [
    "Buscando o nome exato do cargo para filtrar"
   ]
  },
  {
   "cell_type": "code",
   "execution_count": 10,
   "id": "2d30e129-a517-41b7-a1ad-599c45d775a1",
   "metadata": {},
   "outputs": [
    {
     "data": {
      "text/plain": [
       "['ASSISTENTE DE GESTAO DE POLITICAS PUBLICAS NIVEL II',\n",
       " 'ASSISTENTE DE GESTAO DE POLITICAS PUBLICAS NIVEL I',\n",
       " 'ANALISTA POLITICAS PUBLICAS GESTAO GOVERNAMENTAL N.I']"
      ]
     },
     "execution_count": 10,
     "metadata": {},
     "output_type": "execute_result"
    }
   ],
   "source": [
    "[cargo for cargo in cargos_unicos if 'politicas' in str(cargo).lower()]"
   ]
  },
  {
   "cell_type": "code",
   "execution_count": 11,
   "id": "b2fce44f-57ef-4fe6-9daf-61b5a9f298f5",
   "metadata": {},
   "outputs": [],
   "source": [
    "cargo_appgg = 'ANALISTA POLITICAS PUBLICAS GESTAO GOVERNAMENTAL N.I'"
   ]
  },
  {
   "cell_type": "code",
   "execution_count": 12,
   "id": "61cb7c35-73de-4130-bb7f-d927cc775c57",
   "metadata": {},
   "outputs": [],
   "source": [
    "filtro_appggs = servidores['CARGO_BASICO']==cargo_appgg"
   ]
  },
  {
   "cell_type": "code",
   "execution_count": 13,
   "id": "20abdae6-635f-45a2-a21f-12d3451b2408",
   "metadata": {},
   "outputs": [
    {
     "data": {
      "text/plain": [
       "142"
      ]
     },
     "execution_count": 13,
     "metadata": {},
     "output_type": "execute_result"
    }
   ],
   "source": [
    "filtro_appggs.sum()"
   ]
  },
  {
   "cell_type": "code",
   "execution_count": 14,
   "id": "c3d8c09a-9860-4385-bd56-3891cd1dc374",
   "metadata": {},
   "outputs": [],
   "source": [
    "appggs = servidores[filtro_appggs].copy().reset_index(drop=True)"
   ]
  },
  {
   "cell_type": "code",
   "execution_count": 15,
   "id": "569b868e-ceac-4350-aa67-251387e850a6",
   "metadata": {},
   "outputs": [
    {
     "data": {
      "text/html": [
       "<div>\n",
       "<style scoped>\n",
       "    .dataframe tbody tr th:only-of-type {\n",
       "        vertical-align: middle;\n",
       "    }\n",
       "\n",
       "    .dataframe tbody tr th {\n",
       "        vertical-align: top;\n",
       "    }\n",
       "\n",
       "    .dataframe thead th {\n",
       "        text-align: right;\n",
       "    }\n",
       "</style>\n",
       "<table border=\"1\" class=\"dataframe\">\n",
       "  <thead>\n",
       "    <tr style=\"text-align: right;\">\n",
       "      <th></th>\n",
       "      <th>REGISTRO</th>\n",
       "      <th>VINCULO</th>\n",
       "      <th>NOME</th>\n",
       "      <th>CARGO_BASICO</th>\n",
       "      <th>REF_CARGO_BAS</th>\n",
       "      <th>SEGMENTO</th>\n",
       "      <th>GRUPO</th>\n",
       "      <th>SUBGRUPO</th>\n",
       "      <th>ESCOL_CARGO_BASICO</th>\n",
       "      <th>CARGO_COMISSAO</th>\n",
       "      <th>REF_CARGO_COM</th>\n",
       "      <th>ESCOL_CARGO_COMISSAO</th>\n",
       "      <th>JORNADA</th>\n",
       "      <th>DATA_INICIO_EXERC</th>\n",
       "      <th>REL_JUR_ADM</th>\n",
       "      <th>SECRET_SUBPREF</th>\n",
       "      <th>SETOR</th>\n",
       "      <th>ORGAO_EXT</th>\n",
       "      <th>SEXO</th>\n",
       "      <th>ANO_NASCIMENTO</th>\n",
       "      <th>RACA</th>\n",
       "      <th>DEFICIENTE</th>\n",
       "    </tr>\n",
       "  </thead>\n",
       "  <tbody>\n",
       "    <tr>\n",
       "      <th>0</th>\n",
       "      <td>6394604</td>\n",
       "      <td>3</td>\n",
       "      <td>CLAUDIO AGUIAR ALMEIDA</td>\n",
       "      <td>ANALISTA POLITICAS PUBLICAS GESTAO GOVERNAMENT...</td>\n",
       "      <td>APPGG1</td>\n",
       "      <td>NaN</td>\n",
       "      <td>QPGG</td>\n",
       "      <td>SUPERIOR</td>\n",
       "      <td>SUPERIOR COMPLETO</td>\n",
       "      <td>NaN</td>\n",
       "      <td>NaN</td>\n",
       "      <td>NaN</td>\n",
       "      <td>40 H</td>\n",
       "      <td>01/10/2021</td>\n",
       "      <td>EFETIVO</td>\n",
       "      <td>SECRETARIA MUNICIPAL DE CULTURA</td>\n",
       "      <td>SECRETARIA MUNICIPAL DE CULTURA</td>\n",
       "      <td>NaN</td>\n",
       "      <td>M</td>\n",
       "      <td>1963</td>\n",
       "      <td>PRETA</td>\n",
       "      <td>NAO</td>\n",
       "    </tr>\n",
       "    <tr>\n",
       "      <th>1</th>\n",
       "      <td>7575491</td>\n",
       "      <td>2</td>\n",
       "      <td>MAURICIO DA SILVA CORREIA</td>\n",
       "      <td>ANALISTA POLITICAS PUBLICAS GESTAO GOVERNAMENT...</td>\n",
       "      <td>APPGG1</td>\n",
       "      <td>NaN</td>\n",
       "      <td>QPGG</td>\n",
       "      <td>SUPERIOR</td>\n",
       "      <td>SUPERIOR COMPLETO</td>\n",
       "      <td>NaN</td>\n",
       "      <td>NaN</td>\n",
       "      <td>NaN</td>\n",
       "      <td>40 H</td>\n",
       "      <td>03/11/2021</td>\n",
       "      <td>EFETIVO</td>\n",
       "      <td>SECRETARIA MUNICIPAL DE GESTAO</td>\n",
       "      <td>SECRETARIA MUNICIPAL DE GESTAO</td>\n",
       "      <td>PREFEITURA MUNICIPAL DE SALVADOR - BA</td>\n",
       "      <td>M</td>\n",
       "      <td>1986</td>\n",
       "      <td>BRANCA</td>\n",
       "      <td>NAO</td>\n",
       "    </tr>\n",
       "    <tr>\n",
       "      <th>2</th>\n",
       "      <td>7718543</td>\n",
       "      <td>6</td>\n",
       "      <td>MARCIA MIYUKI ISHIKAWA</td>\n",
       "      <td>ANALISTA POLITICAS PUBLICAS GESTAO GOVERNAMENT...</td>\n",
       "      <td>APPGG1</td>\n",
       "      <td>NaN</td>\n",
       "      <td>QPGG</td>\n",
       "      <td>SUPERIOR</td>\n",
       "      <td>SUPERIOR COMPLETO</td>\n",
       "      <td>NaN</td>\n",
       "      <td>NaN</td>\n",
       "      <td>NaN</td>\n",
       "      <td>40 H</td>\n",
       "      <td>08/12/2021</td>\n",
       "      <td>EFETIVO</td>\n",
       "      <td>SECRETARIA MUNICIPAL DE HABITACAO</td>\n",
       "      <td>GABINETE DO SECRETARIO</td>\n",
       "      <td>NaN</td>\n",
       "      <td>F</td>\n",
       "      <td>1978</td>\n",
       "      <td>BRANCA</td>\n",
       "      <td>NAO</td>\n",
       "    </tr>\n",
       "    <tr>\n",
       "      <th>3</th>\n",
       "      <td>7794720</td>\n",
       "      <td>2</td>\n",
       "      <td>TIAGO ROSA MACHADO</td>\n",
       "      <td>ANALISTA POLITICAS PUBLICAS GESTAO GOVERNAMENT...</td>\n",
       "      <td>APPGG1</td>\n",
       "      <td>NaN</td>\n",
       "      <td>QPGG</td>\n",
       "      <td>SUPERIOR</td>\n",
       "      <td>SUPERIOR COMPLETO</td>\n",
       "      <td>NaN</td>\n",
       "      <td>NaN</td>\n",
       "      <td>NaN</td>\n",
       "      <td>40 H</td>\n",
       "      <td>05/01/2022</td>\n",
       "      <td>EFETIVO</td>\n",
       "      <td>SECRETARIA MUNICIPAL DE ESPORTES E LAZER</td>\n",
       "      <td>SECRETARIA MUNICIPAL DE ESPORTES E LAZER</td>\n",
       "      <td>NaN</td>\n",
       "      <td>M</td>\n",
       "      <td>1983</td>\n",
       "      <td>BRANCA</td>\n",
       "      <td>NAO</td>\n",
       "    </tr>\n",
       "    <tr>\n",
       "      <th>4</th>\n",
       "      <td>7809948</td>\n",
       "      <td>3</td>\n",
       "      <td>LUIZ CARLOS LOPES</td>\n",
       "      <td>ANALISTA POLITICAS PUBLICAS GESTAO GOVERNAMENT...</td>\n",
       "      <td>APPGG3</td>\n",
       "      <td>NaN</td>\n",
       "      <td>QPGG</td>\n",
       "      <td>SUPERIOR</td>\n",
       "      <td>SUPERIOR COMPLETO</td>\n",
       "      <td>NaN</td>\n",
       "      <td>NaN</td>\n",
       "      <td>NaN</td>\n",
       "      <td>40 H</td>\n",
       "      <td>11/07/2016</td>\n",
       "      <td>EFETIVO</td>\n",
       "      <td>SECRETARIA MUNICIPAL DA PESSOA COM DEFICIENCIA</td>\n",
       "      <td>SECRETARIA MUNICIPAL DA PESSOA COM DEFICIENCIA</td>\n",
       "      <td>NaN</td>\n",
       "      <td>M</td>\n",
       "      <td>1962</td>\n",
       "      <td>BRANCA</td>\n",
       "      <td>SIM</td>\n",
       "    </tr>\n",
       "  </tbody>\n",
       "</table>\n",
       "</div>"
      ],
      "text/plain": [
       "   REGISTRO  VINCULO                       NOME  \\\n",
       "0   6394604        3     CLAUDIO AGUIAR ALMEIDA   \n",
       "1   7575491        2  MAURICIO DA SILVA CORREIA   \n",
       "2   7718543        6     MARCIA MIYUKI ISHIKAWA   \n",
       "3   7794720        2         TIAGO ROSA MACHADO   \n",
       "4   7809948        3          LUIZ CARLOS LOPES   \n",
       "\n",
       "                                        CARGO_BASICO REF_CARGO_BAS SEGMENTO  \\\n",
       "0  ANALISTA POLITICAS PUBLICAS GESTAO GOVERNAMENT...        APPGG1      NaN   \n",
       "1  ANALISTA POLITICAS PUBLICAS GESTAO GOVERNAMENT...        APPGG1      NaN   \n",
       "2  ANALISTA POLITICAS PUBLICAS GESTAO GOVERNAMENT...        APPGG1      NaN   \n",
       "3  ANALISTA POLITICAS PUBLICAS GESTAO GOVERNAMENT...        APPGG1      NaN   \n",
       "4  ANALISTA POLITICAS PUBLICAS GESTAO GOVERNAMENT...        APPGG3      NaN   \n",
       "\n",
       "  GRUPO  SUBGRUPO ESCOL_CARGO_BASICO CARGO_COMISSAO REF_CARGO_COM  \\\n",
       "0  QPGG  SUPERIOR  SUPERIOR COMPLETO            NaN           NaN   \n",
       "1  QPGG  SUPERIOR  SUPERIOR COMPLETO            NaN           NaN   \n",
       "2  QPGG  SUPERIOR  SUPERIOR COMPLETO            NaN           NaN   \n",
       "3  QPGG  SUPERIOR  SUPERIOR COMPLETO            NaN           NaN   \n",
       "4  QPGG  SUPERIOR  SUPERIOR COMPLETO            NaN           NaN   \n",
       "\n",
       "  ESCOL_CARGO_COMISSAO JORNADA DATA_INICIO_EXERC REL_JUR_ADM  \\\n",
       "0                  NaN    40 H        01/10/2021     EFETIVO   \n",
       "1                  NaN    40 H        03/11/2021     EFETIVO   \n",
       "2                  NaN    40 H        08/12/2021     EFETIVO   \n",
       "3                  NaN    40 H        05/01/2022     EFETIVO   \n",
       "4                  NaN    40 H        11/07/2016     EFETIVO   \n",
       "\n",
       "                                   SECRET_SUBPREF  \\\n",
       "0                 SECRETARIA MUNICIPAL DE CULTURA   \n",
       "1                  SECRETARIA MUNICIPAL DE GESTAO   \n",
       "2               SECRETARIA MUNICIPAL DE HABITACAO   \n",
       "3        SECRETARIA MUNICIPAL DE ESPORTES E LAZER   \n",
       "4  SECRETARIA MUNICIPAL DA PESSOA COM DEFICIENCIA   \n",
       "\n",
       "                                            SETOR  \\\n",
       "0                 SECRETARIA MUNICIPAL DE CULTURA   \n",
       "1                  SECRETARIA MUNICIPAL DE GESTAO   \n",
       "2                          GABINETE DO SECRETARIO   \n",
       "3        SECRETARIA MUNICIPAL DE ESPORTES E LAZER   \n",
       "4  SECRETARIA MUNICIPAL DA PESSOA COM DEFICIENCIA   \n",
       "\n",
       "                               ORGAO_EXT SEXO  ANO_NASCIMENTO    RACA  \\\n",
       "0                                    NaN    M            1963   PRETA   \n",
       "1  PREFEITURA MUNICIPAL DE SALVADOR - BA    M            1986  BRANCA   \n",
       "2                                    NaN    F            1978  BRANCA   \n",
       "3                                    NaN    M            1983  BRANCA   \n",
       "4                                    NaN    M            1962  BRANCA   \n",
       "\n",
       "  DEFICIENTE  \n",
       "0        NAO  \n",
       "1        NAO  \n",
       "2        NAO  \n",
       "3        NAO  \n",
       "4        SIM  "
      ]
     },
     "execution_count": 15,
     "metadata": {},
     "output_type": "execute_result"
    }
   ],
   "source": [
    "appggs.head()"
   ]
  },
  {
   "cell_type": "code",
   "execution_count": 16,
   "id": "85d0b4f7-2498-4910-ae78-9d108c88897d",
   "metadata": {},
   "outputs": [],
   "source": [
    "appggs.to_csv('relacao_appggs.csv', encoding='utf-8', sep=';', index=False)"
   ]
  },
  {
   "cell_type": "markdown",
   "id": "01fb9428-ea26-4c48-b406-05c6e5ecc231",
   "metadata": {},
   "source": [
    "#### Dados votação\n",
    "\n",
    "Agora vamos abrir os resultados da votação"
   ]
  },
  {
   "cell_type": "code",
   "execution_count": 17,
   "id": "581c41f4-dd53-4962-bcd8-7593839e8593",
   "metadata": {},
   "outputs": [],
   "source": [
    "with ZipFile(\"Emendas Carreira APPG - PL 328_2023.csv.zip\") as arq_zip:\n",
    "    arq_zip.extractall()"
   ]
  },
  {
   "cell_type": "code",
   "execution_count": 18,
   "id": "24e421af-c2d7-420c-a805-8cced23fc950",
   "metadata": {},
   "outputs": [],
   "source": [
    "arq_votos = os.path.join(\"Emendas Carreira APPG - PL 328\", \"2023.csv\")"
   ]
  },
  {
   "cell_type": "code",
   "execution_count": 19,
   "id": "78baa39e-3be2-46be-8e65-800824af311d",
   "metadata": {},
   "outputs": [],
   "source": [
    "votos = pd.read_csv(arq_votos)"
   ]
  },
  {
   "cell_type": "code",
   "execution_count": 20,
   "id": "b29ddf52-d028-481b-91d4-f6a5ff23d233",
   "metadata": {},
   "outputs": [
    {
     "data": {
      "text/html": [
       "<div>\n",
       "<style scoped>\n",
       "    .dataframe tbody tr th:only-of-type {\n",
       "        vertical-align: middle;\n",
       "    }\n",
       "\n",
       "    .dataframe tbody tr th {\n",
       "        vertical-align: top;\n",
       "    }\n",
       "\n",
       "    .dataframe thead th {\n",
       "        text-align: right;\n",
       "    }\n",
       "</style>\n",
       "<table border=\"1\" class=\"dataframe\">\n",
       "  <thead>\n",
       "    <tr style=\"text-align: right;\">\n",
       "      <th></th>\n",
       "      <th>Timestamp</th>\n",
       "      <th>RF</th>\n",
       "      <th>Em relação às propostas de recuperação salarial, você:</th>\n",
       "      <th>Em relação à proposta de remoção da cláusula de limite para as cessões sem prejuízo dos vencimentos você:</th>\n",
       "      <th>Em relação à proposta de remoção da cláusula de impedimento de ocupar cargos em comissão durante o estágio probatório você:</th>\n",
       "    </tr>\n",
       "  </thead>\n",
       "  <tbody>\n",
       "    <tr>\n",
       "      <th>0</th>\n",
       "      <td>2023/06/16 2:40:20 PM GMT-3</td>\n",
       "      <td>8390452</td>\n",
       "      <td>Concorda com a proposta de reversão do achatam...</td>\n",
       "      <td>Discorda.</td>\n",
       "      <td>NaN</td>\n",
       "    </tr>\n",
       "    <tr>\n",
       "      <th>1</th>\n",
       "      <td>2023/06/16 2:44:03 PM GMT-3</td>\n",
       "      <td>8359091</td>\n",
       "      <td>Concorda com a proposta de reversão do achatam...</td>\n",
       "      <td>Concorda.</td>\n",
       "      <td>NaN</td>\n",
       "    </tr>\n",
       "    <tr>\n",
       "      <th>2</th>\n",
       "      <td>2023/06/16 2:46:22 PM GMT-3</td>\n",
       "      <td>8084858</td>\n",
       "      <td>Concorda com a proposta de unificação do quadr...</td>\n",
       "      <td>Concorda.</td>\n",
       "      <td>Concorda.</td>\n",
       "    </tr>\n",
       "    <tr>\n",
       "      <th>3</th>\n",
       "      <td>2023/06/16 2:49:59 PM GMT-3</td>\n",
       "      <td>8475024</td>\n",
       "      <td>Concorda com a proposta de reversão do achatam...</td>\n",
       "      <td>Concorda.</td>\n",
       "      <td>Concorda.</td>\n",
       "    </tr>\n",
       "    <tr>\n",
       "      <th>4</th>\n",
       "      <td>2023/06/16 3:07:59 PM GMT-3</td>\n",
       "      <td>8390452</td>\n",
       "      <td>Concorda com a proposta de reversão do achatam...</td>\n",
       "      <td>Discorda.</td>\n",
       "      <td>Concorda.</td>\n",
       "    </tr>\n",
       "  </tbody>\n",
       "</table>\n",
       "</div>"
      ],
      "text/plain": [
       "                     Timestamp       RF  \\\n",
       "0  2023/06/16 2:40:20 PM GMT-3  8390452   \n",
       "1  2023/06/16 2:44:03 PM GMT-3  8359091   \n",
       "2  2023/06/16 2:46:22 PM GMT-3  8084858   \n",
       "3  2023/06/16 2:49:59 PM GMT-3  8475024   \n",
       "4  2023/06/16 3:07:59 PM GMT-3  8390452   \n",
       "\n",
       "  Em relação às propostas de recuperação salarial, você:  \\\n",
       "0  Concorda com a proposta de reversão do achatam...       \n",
       "1  Concorda com a proposta de reversão do achatam...       \n",
       "2  Concorda com a proposta de unificação do quadr...       \n",
       "3  Concorda com a proposta de reversão do achatam...       \n",
       "4  Concorda com a proposta de reversão do achatam...       \n",
       "\n",
       "  Em relação à proposta de remoção da cláusula de limite para as cessões sem prejuízo dos vencimentos você:  \\\n",
       "0                                          Discorda.                                                          \n",
       "1                                          Concorda.                                                          \n",
       "2                                          Concorda.                                                          \n",
       "3                                          Concorda.                                                          \n",
       "4                                          Discorda.                                                          \n",
       "\n",
       "  Em relação à proposta de remoção da cláusula de impedimento de ocupar cargos em comissão durante o estágio probatório você:  \n",
       "0                                                NaN                                                                           \n",
       "1                                                NaN                                                                           \n",
       "2                                          Concorda.                                                                           \n",
       "3                                          Concorda.                                                                           \n",
       "4                                          Concorda.                                                                           "
      ]
     },
     "execution_count": 20,
     "metadata": {},
     "output_type": "execute_result"
    }
   ],
   "source": [
    "votos.head()"
   ]
  },
  {
   "cell_type": "markdown",
   "id": "511038a7-fc68-458e-856f-af79ca3335e5",
   "metadata": {},
   "source": [
    "#### Join\n",
    "\n",
    "Agora vamos fazer join das duas bases, com dados de interesse sobre a carreira."
   ]
  },
  {
   "cell_type": "code",
   "execution_count": 21,
   "id": "a6a3ae23-5e3d-41df-965c-47aed53c35ba",
   "metadata": {},
   "outputs": [],
   "source": [
    "dados_appggs = [\n",
    "                'REGISTRO', \n",
    "                'NOME', \n",
    "                'CARGO_COMISSAO', \n",
    "                'SECRET_SUBPREF', \n",
    "                'DATA_INICIO_EXERC',\n",
    "                'ORGAO_EXT',\n",
    "                'SEXO',\n",
    "                'RACA',\n",
    "                'DEFICIENTE'\n",
    "]"
   ]
  },
  {
   "cell_type": "code",
   "execution_count": 22,
   "id": "7574356c-2f14-41a6-aec8-79de9a1339d0",
   "metadata": {},
   "outputs": [],
   "source": [
    "appggs = appggs[dados_appggs].copy()"
   ]
  },
  {
   "cell_type": "code",
   "execution_count": 23,
   "id": "b64e3034-228e-4a26-9466-ebd8e2d5c0ea",
   "metadata": {},
   "outputs": [
    {
     "data": {
      "text/plain": [
       "False"
      ]
     },
     "execution_count": 23,
     "metadata": {},
     "output_type": "execute_result"
    }
   ],
   "source": [
    "votos['RF'].isnull().any()"
   ]
  },
  {
   "cell_type": "code",
   "execution_count": 24,
   "id": "26668efa-9008-42aa-bc99-f61d5242b34d",
   "metadata": {},
   "outputs": [
    {
     "data": {
      "text/plain": [
       "False"
      ]
     },
     "execution_count": 24,
     "metadata": {},
     "output_type": "execute_result"
    }
   ],
   "source": [
    "appggs['REGISTRO'].isnull().any()"
   ]
  },
  {
   "cell_type": "code",
   "execution_count": 25,
   "id": "9d6dc3c5-c039-4270-91a8-bca33b1d02c2",
   "metadata": {},
   "outputs": [],
   "source": [
    "votos['RF'] = votos['RF'].astype(str)"
   ]
  },
  {
   "cell_type": "code",
   "execution_count": 26,
   "id": "aa9e03f3-6fe1-41e8-b254-e71c5108c81c",
   "metadata": {},
   "outputs": [],
   "source": [
    "appggs['REGISTRO'] = appggs['REGISTRO'].astype(str)"
   ]
  },
  {
   "cell_type": "code",
   "execution_count": 27,
   "id": "df05e06f-f62a-4035-aa88-419a7e8306fc",
   "metadata": {},
   "outputs": [],
   "source": [
    "votos_join = pd.merge(votos, appggs, how='outer', left_on='RF', right_on='REGISTRO')"
   ]
  },
  {
   "cell_type": "code",
   "execution_count": 28,
   "id": "9bb71699-dfd1-4ca4-9b2c-a125801a7caa",
   "metadata": {},
   "outputs": [
    {
     "data": {
      "text/html": [
       "<div>\n",
       "<style scoped>\n",
       "    .dataframe tbody tr th:only-of-type {\n",
       "        vertical-align: middle;\n",
       "    }\n",
       "\n",
       "    .dataframe tbody tr th {\n",
       "        vertical-align: top;\n",
       "    }\n",
       "\n",
       "    .dataframe thead th {\n",
       "        text-align: right;\n",
       "    }\n",
       "</style>\n",
       "<table border=\"1\" class=\"dataframe\">\n",
       "  <thead>\n",
       "    <tr style=\"text-align: right;\">\n",
       "      <th></th>\n",
       "      <th>Timestamp</th>\n",
       "      <th>RF</th>\n",
       "      <th>Em relação às propostas de recuperação salarial, você:</th>\n",
       "      <th>Em relação à proposta de remoção da cláusula de limite para as cessões sem prejuízo dos vencimentos você:</th>\n",
       "      <th>Em relação à proposta de remoção da cláusula de impedimento de ocupar cargos em comissão durante o estágio probatório você:</th>\n",
       "      <th>REGISTRO</th>\n",
       "      <th>NOME</th>\n",
       "      <th>CARGO_COMISSAO</th>\n",
       "      <th>SECRET_SUBPREF</th>\n",
       "      <th>DATA_INICIO_EXERC</th>\n",
       "      <th>ORGAO_EXT</th>\n",
       "      <th>SEXO</th>\n",
       "      <th>RACA</th>\n",
       "      <th>DEFICIENTE</th>\n",
       "    </tr>\n",
       "  </thead>\n",
       "  <tbody>\n",
       "    <tr>\n",
       "      <th>0</th>\n",
       "      <td>2023/06/16 2:40:20 PM GMT-3</td>\n",
       "      <td>8390452</td>\n",
       "      <td>Concorda com a proposta de reversão do achatam...</td>\n",
       "      <td>Discorda.</td>\n",
       "      <td>NaN</td>\n",
       "      <td>8390452</td>\n",
       "      <td>BRUNO MARTINELLI</td>\n",
       "      <td>NaN</td>\n",
       "      <td>SECRETARIA MUNICIPAL DE INOVACAO E TECNOLOGIA</td>\n",
       "      <td>15/10/2021</td>\n",
       "      <td>NaN</td>\n",
       "      <td>M</td>\n",
       "      <td>BRANCA</td>\n",
       "      <td>SIM</td>\n",
       "    </tr>\n",
       "    <tr>\n",
       "      <th>1</th>\n",
       "      <td>2023/06/16 3:07:59 PM GMT-3</td>\n",
       "      <td>8390452</td>\n",
       "      <td>Concorda com a proposta de reversão do achatam...</td>\n",
       "      <td>Discorda.</td>\n",
       "      <td>Concorda.</td>\n",
       "      <td>8390452</td>\n",
       "      <td>BRUNO MARTINELLI</td>\n",
       "      <td>NaN</td>\n",
       "      <td>SECRETARIA MUNICIPAL DE INOVACAO E TECNOLOGIA</td>\n",
       "      <td>15/10/2021</td>\n",
       "      <td>NaN</td>\n",
       "      <td>M</td>\n",
       "      <td>BRANCA</td>\n",
       "      <td>SIM</td>\n",
       "    </tr>\n",
       "    <tr>\n",
       "      <th>2</th>\n",
       "      <td>2023/06/17 6:52:49 PM GMT-3</td>\n",
       "      <td>8390452</td>\n",
       "      <td>Concorda com a proposta de unificação do quadr...</td>\n",
       "      <td>Discorda.</td>\n",
       "      <td>Concorda.</td>\n",
       "      <td>8390452</td>\n",
       "      <td>BRUNO MARTINELLI</td>\n",
       "      <td>NaN</td>\n",
       "      <td>SECRETARIA MUNICIPAL DE INOVACAO E TECNOLOGIA</td>\n",
       "      <td>15/10/2021</td>\n",
       "      <td>NaN</td>\n",
       "      <td>M</td>\n",
       "      <td>BRANCA</td>\n",
       "      <td>SIM</td>\n",
       "    </tr>\n",
       "    <tr>\n",
       "      <th>3</th>\n",
       "      <td>2023/06/16 2:44:03 PM GMT-3</td>\n",
       "      <td>8359091</td>\n",
       "      <td>Concorda com a proposta de reversão do achatam...</td>\n",
       "      <td>Concorda.</td>\n",
       "      <td>NaN</td>\n",
       "      <td>8359091</td>\n",
       "      <td>DANIEL BRUNO GARCIA</td>\n",
       "      <td>NaN</td>\n",
       "      <td>GABINETE DO PREFEITO</td>\n",
       "      <td>22/06/2016</td>\n",
       "      <td>NaN</td>\n",
       "      <td>M</td>\n",
       "      <td>BRANCA</td>\n",
       "      <td>NAO</td>\n",
       "    </tr>\n",
       "    <tr>\n",
       "      <th>4</th>\n",
       "      <td>2023/06/16 4:23:26 PM GMT-3</td>\n",
       "      <td>8359091</td>\n",
       "      <td>Concorda com a proposta de reversão do achatam...</td>\n",
       "      <td>Concorda.</td>\n",
       "      <td>Concorda.</td>\n",
       "      <td>8359091</td>\n",
       "      <td>DANIEL BRUNO GARCIA</td>\n",
       "      <td>NaN</td>\n",
       "      <td>GABINETE DO PREFEITO</td>\n",
       "      <td>22/06/2016</td>\n",
       "      <td>NaN</td>\n",
       "      <td>M</td>\n",
       "      <td>BRANCA</td>\n",
       "      <td>NAO</td>\n",
       "    </tr>\n",
       "  </tbody>\n",
       "</table>\n",
       "</div>"
      ],
      "text/plain": [
       "                     Timestamp       RF  \\\n",
       "0  2023/06/16 2:40:20 PM GMT-3  8390452   \n",
       "1  2023/06/16 3:07:59 PM GMT-3  8390452   \n",
       "2  2023/06/17 6:52:49 PM GMT-3  8390452   \n",
       "3  2023/06/16 2:44:03 PM GMT-3  8359091   \n",
       "4  2023/06/16 4:23:26 PM GMT-3  8359091   \n",
       "\n",
       "  Em relação às propostas de recuperação salarial, você:  \\\n",
       "0  Concorda com a proposta de reversão do achatam...       \n",
       "1  Concorda com a proposta de reversão do achatam...       \n",
       "2  Concorda com a proposta de unificação do quadr...       \n",
       "3  Concorda com a proposta de reversão do achatam...       \n",
       "4  Concorda com a proposta de reversão do achatam...       \n",
       "\n",
       "  Em relação à proposta de remoção da cláusula de limite para as cessões sem prejuízo dos vencimentos você:  \\\n",
       "0                                          Discorda.                                                          \n",
       "1                                          Discorda.                                                          \n",
       "2                                          Discorda.                                                          \n",
       "3                                          Concorda.                                                          \n",
       "4                                          Concorda.                                                          \n",
       "\n",
       "  Em relação à proposta de remoção da cláusula de impedimento de ocupar cargos em comissão durante o estágio probatório você:  \\\n",
       "0                                                NaN                                                                            \n",
       "1                                          Concorda.                                                                            \n",
       "2                                          Concorda.                                                                            \n",
       "3                                                NaN                                                                            \n",
       "4                                          Concorda.                                                                            \n",
       "\n",
       "  REGISTRO                 NOME CARGO_COMISSAO  \\\n",
       "0  8390452     BRUNO MARTINELLI            NaN   \n",
       "1  8390452     BRUNO MARTINELLI            NaN   \n",
       "2  8390452     BRUNO MARTINELLI            NaN   \n",
       "3  8359091  DANIEL BRUNO GARCIA            NaN   \n",
       "4  8359091  DANIEL BRUNO GARCIA            NaN   \n",
       "\n",
       "                                  SECRET_SUBPREF DATA_INICIO_EXERC ORGAO_EXT  \\\n",
       "0  SECRETARIA MUNICIPAL DE INOVACAO E TECNOLOGIA        15/10/2021       NaN   \n",
       "1  SECRETARIA MUNICIPAL DE INOVACAO E TECNOLOGIA        15/10/2021       NaN   \n",
       "2  SECRETARIA MUNICIPAL DE INOVACAO E TECNOLOGIA        15/10/2021       NaN   \n",
       "3                           GABINETE DO PREFEITO        22/06/2016       NaN   \n",
       "4                           GABINETE DO PREFEITO        22/06/2016       NaN   \n",
       "\n",
       "  SEXO    RACA DEFICIENTE  \n",
       "0    M  BRANCA        SIM  \n",
       "1    M  BRANCA        SIM  \n",
       "2    M  BRANCA        SIM  \n",
       "3    M  BRANCA        NAO  \n",
       "4    M  BRANCA        NAO  "
      ]
     },
     "execution_count": 28,
     "metadata": {},
     "output_type": "execute_result"
    }
   ],
   "source": [
    "votos_join.head()"
   ]
  },
  {
   "cell_type": "markdown",
   "id": "46c2ca1a-6e77-45b1-8299-426992dee77f",
   "metadata": {},
   "source": [
    "### Identificação abstenção\n",
    "\n",
    "Como fizemos um outer join, os dados que estiverem com \"nulo\" nas colunas da base de votos são os appggs que não votaram."
   ]
  },
  {
   "cell_type": "code",
   "execution_count": 29,
   "id": "61653d5e-b5f4-4065-a93d-81dae1bc3d3f",
   "metadata": {},
   "outputs": [
    {
     "data": {
      "text/plain": [
       "78"
      ]
     },
     "execution_count": 29,
     "metadata": {},
     "output_type": "execute_result"
    }
   ],
   "source": [
    "votos_join['RF'].isnull().sum()"
   ]
  },
  {
   "cell_type": "code",
   "execution_count": 30,
   "id": "56c576af-05e8-40a8-bd9b-e46603897b26",
   "metadata": {},
   "outputs": [
    {
     "data": {
      "text/plain": [
       "7"
      ]
     },
     "execution_count": 30,
     "metadata": {},
     "output_type": "execute_result"
    }
   ],
   "source": [
    "votos_join['REGISTRO'].isnull().sum()"
   ]
  },
  {
   "cell_type": "markdown",
   "id": "674a3f31-4428-4236-93ee-0d9cd3091523",
   "metadata": {},
   "source": [
    "Alguns RFs da base de votos não foram encontrados - o que é natural, trata-se da taxa de abstenção.\n",
    "\n",
    "No entanto, temos também valores nulos para o RF da base de APPGGs. Isso indica que houve RFs digitados que não existem.\n",
    "\n",
    "Teremos que anular esses votos."
   ]
  },
  {
   "cell_type": "code",
   "execution_count": 31,
   "id": "25d18927-5d89-4091-8032-99d8a0141c69",
   "metadata": {},
   "outputs": [],
   "source": [
    "rfs_inexistentes = votos_join['REGISTRO'].isnull()"
   ]
  },
  {
   "cell_type": "code",
   "execution_count": 32,
   "id": "950da4eb-c9d2-4bf0-87fe-2458830dc386",
   "metadata": {},
   "outputs": [],
   "source": [
    "votos_join['rf_inexistente'] = rfs_inexistentes"
   ]
  },
  {
   "cell_type": "code",
   "execution_count": 33,
   "id": "73bb890e-b2ff-4a52-a17c-0b96016b2542",
   "metadata": {},
   "outputs": [],
   "source": [
    "anulados_rf_inexistente = votos_join[rfs_inexistentes].copy().reset_index(drop=True)"
   ]
  },
  {
   "cell_type": "code",
   "execution_count": 34,
   "id": "7681b056-9789-4222-a7eb-0e78cd541262",
   "metadata": {},
   "outputs": [],
   "source": [
    "#como todas as colunas da base de servidores são nulas, vou manter apeans a da base de votos\n",
    "anulados_rf_inexistente = anulados_rf_inexistente[votos.columns]"
   ]
  },
  {
   "cell_type": "code",
   "execution_count": 35,
   "id": "5d868c5e-6dc8-4ef9-b0d3-a2b21876071e",
   "metadata": {},
   "outputs": [
    {
     "data": {
      "text/html": [
       "<div>\n",
       "<style scoped>\n",
       "    .dataframe tbody tr th:only-of-type {\n",
       "        vertical-align: middle;\n",
       "    }\n",
       "\n",
       "    .dataframe tbody tr th {\n",
       "        vertical-align: top;\n",
       "    }\n",
       "\n",
       "    .dataframe thead th {\n",
       "        text-align: right;\n",
       "    }\n",
       "</style>\n",
       "<table border=\"1\" class=\"dataframe\">\n",
       "  <thead>\n",
       "    <tr style=\"text-align: right;\">\n",
       "      <th></th>\n",
       "      <th>Timestamp</th>\n",
       "      <th>RF</th>\n",
       "      <th>Em relação às propostas de recuperação salarial, você:</th>\n",
       "      <th>Em relação à proposta de remoção da cláusula de limite para as cessões sem prejuízo dos vencimentos você:</th>\n",
       "      <th>Em relação à proposta de remoção da cláusula de impedimento de ocupar cargos em comissão durante o estágio probatório você:</th>\n",
       "    </tr>\n",
       "  </thead>\n",
       "  <tbody>\n",
       "    <tr>\n",
       "      <th>0</th>\n",
       "      <td>2023/06/16 3:54:36 PM GMT-3</td>\n",
       "      <td>8907521</td>\n",
       "      <td>Concorda com a proposta de unificação do quadr...</td>\n",
       "      <td>Discorda.</td>\n",
       "      <td>Concorda.</td>\n",
       "    </tr>\n",
       "    <tr>\n",
       "      <th>1</th>\n",
       "      <td>2023/06/16 4:41:40 PM GMT-3</td>\n",
       "      <td>8359592</td>\n",
       "      <td>Concorda com a proposta de reversão do achatam...</td>\n",
       "      <td>Concorda.</td>\n",
       "      <td>Prefere se abster de votar.</td>\n",
       "    </tr>\n",
       "    <tr>\n",
       "      <th>2</th>\n",
       "      <td>2023/06/16 4:43:25 PM GMT-3</td>\n",
       "      <td>8359167</td>\n",
       "      <td>Concorda com a proposta de unificação do quadr...</td>\n",
       "      <td>Concorda.</td>\n",
       "      <td>Concorda.</td>\n",
       "    </tr>\n",
       "    <tr>\n",
       "      <th>3</th>\n",
       "      <td>2023/06/16 6:08:57 PM GMT-3</td>\n",
       "      <td>8897017</td>\n",
       "      <td>Concorda com a proposta de reversão do achatam...</td>\n",
       "      <td>Concorda.</td>\n",
       "      <td>Discorda.</td>\n",
       "    </tr>\n",
       "    <tr>\n",
       "      <th>4</th>\n",
       "      <td>2023/06/16 9:16:46 PM GMT-3</td>\n",
       "      <td>8321854</td>\n",
       "      <td>Concorda com a proposta de unificação do quadr...</td>\n",
       "      <td>Concorda.</td>\n",
       "      <td>Concorda.</td>\n",
       "    </tr>\n",
       "    <tr>\n",
       "      <th>5</th>\n",
       "      <td>2023/06/17 9:56:25 AM GMT-3</td>\n",
       "      <td>8111818</td>\n",
       "      <td>Concorda com a proposta de unificação do quadr...</td>\n",
       "      <td>Concorda.</td>\n",
       "      <td>Concorda.</td>\n",
       "    </tr>\n",
       "    <tr>\n",
       "      <th>6</th>\n",
       "      <td>2023/06/17 6:02:36 PM GMT-3</td>\n",
       "      <td>8414111</td>\n",
       "      <td>Concorda com a proposta de reversão do achatam...</td>\n",
       "      <td>Concorda.</td>\n",
       "      <td>Concorda.</td>\n",
       "    </tr>\n",
       "  </tbody>\n",
       "</table>\n",
       "</div>"
      ],
      "text/plain": [
       "                     Timestamp       RF  \\\n",
       "0  2023/06/16 3:54:36 PM GMT-3  8907521   \n",
       "1  2023/06/16 4:41:40 PM GMT-3  8359592   \n",
       "2  2023/06/16 4:43:25 PM GMT-3  8359167   \n",
       "3  2023/06/16 6:08:57 PM GMT-3  8897017   \n",
       "4  2023/06/16 9:16:46 PM GMT-3  8321854   \n",
       "5  2023/06/17 9:56:25 AM GMT-3  8111818   \n",
       "6  2023/06/17 6:02:36 PM GMT-3  8414111   \n",
       "\n",
       "  Em relação às propostas de recuperação salarial, você:  \\\n",
       "0  Concorda com a proposta de unificação do quadr...       \n",
       "1  Concorda com a proposta de reversão do achatam...       \n",
       "2  Concorda com a proposta de unificação do quadr...       \n",
       "3  Concorda com a proposta de reversão do achatam...       \n",
       "4  Concorda com a proposta de unificação do quadr...       \n",
       "5  Concorda com a proposta de unificação do quadr...       \n",
       "6  Concorda com a proposta de reversão do achatam...       \n",
       "\n",
       "  Em relação à proposta de remoção da cláusula de limite para as cessões sem prejuízo dos vencimentos você:  \\\n",
       "0                                          Discorda.                                                          \n",
       "1                                          Concorda.                                                          \n",
       "2                                          Concorda.                                                          \n",
       "3                                          Concorda.                                                          \n",
       "4                                          Concorda.                                                          \n",
       "5                                          Concorda.                                                          \n",
       "6                                          Concorda.                                                          \n",
       "\n",
       "  Em relação à proposta de remoção da cláusula de impedimento de ocupar cargos em comissão durante o estágio probatório você:  \n",
       "0                                          Concorda.                                                                           \n",
       "1                        Prefere se abster de votar.                                                                           \n",
       "2                                          Concorda.                                                                           \n",
       "3                                          Discorda.                                                                           \n",
       "4                                          Concorda.                                                                           \n",
       "5                                          Concorda.                                                                           \n",
       "6                                          Concorda.                                                                           "
      ]
     },
     "execution_count": 35,
     "metadata": {},
     "output_type": "execute_result"
    }
   ],
   "source": [
    "anulados_rf_inexistente"
   ]
  },
  {
   "cell_type": "code",
   "execution_count": 36,
   "id": "de48ed27-4e8a-493a-b7cd-b4df17faab66",
   "metadata": {},
   "outputs": [],
   "source": [
    "anulados_rf_inexistente.to_csv('anulados_rf_inexistente.csv', sep=';', encoding='utf-8')"
   ]
  },
  {
   "cell_type": "markdown",
   "id": "e216b9a5-78f7-4bda-b99e-da16e0ce12da",
   "metadata": {},
   "source": [
    "### Tratamento votos duplicados"
   ]
  },
  {
   "cell_type": "markdown",
   "id": "3840a594-3b6b-48e0-98f9-1777482a8507",
   "metadata": {},
   "source": [
    "Vamos ver agora se houve votos duplicados.\n",
    "\n",
    "Esses votos podem ser identificados por uma duplicação na coluna \"RF\" que identifica o RF do votante."
   ]
  },
  {
   "cell_type": "code",
   "execution_count": 37,
   "id": "b17aff44-39b8-4b84-9a0b-c69b5bb7ac14",
   "metadata": {},
   "outputs": [],
   "source": [
    "votos_submetidos = votos_join['RF'].notnull()"
   ]
  },
  {
   "cell_type": "markdown",
   "id": "5c0b453a-92ca-4b4d-a92c-07bf8f944607",
   "metadata": {},
   "source": [
    "Vou aproveitar para criar uma coluna de abstencao (que é, logicamente, a negação da coluna de voto submetido)"
   ]
  },
  {
   "cell_type": "code",
   "execution_count": 38,
   "id": "8a6d9d82-9171-4684-b506-12783ce4e79a",
   "metadata": {},
   "outputs": [],
   "source": [
    "votos_join['abstencao'] = ~votos_submetidos"
   ]
  },
  {
   "cell_type": "markdown",
   "id": "b2f2c9a9-6cad-46a5-9f7e-fc9f0a495435",
   "metadata": {},
   "source": [
    "Há quatro votos duplicados."
   ]
  },
  {
   "cell_type": "code",
   "execution_count": 39,
   "id": "438b2e84-5ddb-4383-b7e3-ef12463e4d98",
   "metadata": {},
   "outputs": [
    {
     "data": {
      "text/plain": [
       "4"
      ]
     },
     "execution_count": 39,
     "metadata": {},
     "output_type": "execute_result"
    }
   ],
   "source": [
    "votos_join[votos_submetidos]['RF'].duplicated().sum()"
   ]
  },
  {
   "cell_type": "markdown",
   "id": "fd387d5f-e29a-4559-8a41-a2e12e5b053e",
   "metadata": {},
   "source": [
    "O voto duplicado deve ser assim aquele voto que foi submetido e que está com o RF duplicado.\n",
    "\n",
    "Abaixo identificamos eles."
   ]
  },
  {
   "cell_type": "code",
   "execution_count": 40,
   "id": "e0f49c1f-c7cb-4483-b99f-af6680b5d88b",
   "metadata": {},
   "outputs": [],
   "source": [
    "votos_join['voto_duplicado'] = votos_submetidos & votos_join['RF'].duplicated(keep=False)"
   ]
  },
  {
   "cell_type": "code",
   "execution_count": 41,
   "id": "759de0e9-08d9-47ac-a8f2-af6f492cedc0",
   "metadata": {},
   "outputs": [
    {
     "data": {
      "text/html": [
       "<div>\n",
       "<style scoped>\n",
       "    .dataframe tbody tr th:only-of-type {\n",
       "        vertical-align: middle;\n",
       "    }\n",
       "\n",
       "    .dataframe tbody tr th {\n",
       "        vertical-align: top;\n",
       "    }\n",
       "\n",
       "    .dataframe thead th {\n",
       "        text-align: right;\n",
       "    }\n",
       "</style>\n",
       "<table border=\"1\" class=\"dataframe\">\n",
       "  <thead>\n",
       "    <tr style=\"text-align: right;\">\n",
       "      <th></th>\n",
       "      <th>Timestamp</th>\n",
       "      <th>RF</th>\n",
       "      <th>Em relação às propostas de recuperação salarial, você:</th>\n",
       "      <th>Em relação à proposta de remoção da cláusula de limite para as cessões sem prejuízo dos vencimentos você:</th>\n",
       "      <th>Em relação à proposta de remoção da cláusula de impedimento de ocupar cargos em comissão durante o estágio probatório você:</th>\n",
       "      <th>REGISTRO</th>\n",
       "      <th>NOME</th>\n",
       "      <th>CARGO_COMISSAO</th>\n",
       "      <th>SECRET_SUBPREF</th>\n",
       "      <th>DATA_INICIO_EXERC</th>\n",
       "      <th>ORGAO_EXT</th>\n",
       "      <th>SEXO</th>\n",
       "      <th>RACA</th>\n",
       "      <th>DEFICIENTE</th>\n",
       "      <th>rf_inexistente</th>\n",
       "      <th>abstencao</th>\n",
       "      <th>voto_duplicado</th>\n",
       "    </tr>\n",
       "  </thead>\n",
       "  <tbody>\n",
       "    <tr>\n",
       "      <th>0</th>\n",
       "      <td>2023/06/16 2:40:20 PM GMT-3</td>\n",
       "      <td>8390452</td>\n",
       "      <td>Concorda com a proposta de reversão do achatam...</td>\n",
       "      <td>Discorda.</td>\n",
       "      <td>NaN</td>\n",
       "      <td>8390452</td>\n",
       "      <td>BRUNO MARTINELLI</td>\n",
       "      <td>NaN</td>\n",
       "      <td>SECRETARIA MUNICIPAL DE INOVACAO E TECNOLOGIA</td>\n",
       "      <td>15/10/2021</td>\n",
       "      <td>NaN</td>\n",
       "      <td>M</td>\n",
       "      <td>BRANCA</td>\n",
       "      <td>SIM</td>\n",
       "      <td>False</td>\n",
       "      <td>False</td>\n",
       "      <td>True</td>\n",
       "    </tr>\n",
       "    <tr>\n",
       "      <th>1</th>\n",
       "      <td>2023/06/16 3:07:59 PM GMT-3</td>\n",
       "      <td>8390452</td>\n",
       "      <td>Concorda com a proposta de reversão do achatam...</td>\n",
       "      <td>Discorda.</td>\n",
       "      <td>Concorda.</td>\n",
       "      <td>8390452</td>\n",
       "      <td>BRUNO MARTINELLI</td>\n",
       "      <td>NaN</td>\n",
       "      <td>SECRETARIA MUNICIPAL DE INOVACAO E TECNOLOGIA</td>\n",
       "      <td>15/10/2021</td>\n",
       "      <td>NaN</td>\n",
       "      <td>M</td>\n",
       "      <td>BRANCA</td>\n",
       "      <td>SIM</td>\n",
       "      <td>False</td>\n",
       "      <td>False</td>\n",
       "      <td>True</td>\n",
       "    </tr>\n",
       "    <tr>\n",
       "      <th>2</th>\n",
       "      <td>2023/06/17 6:52:49 PM GMT-3</td>\n",
       "      <td>8390452</td>\n",
       "      <td>Concorda com a proposta de unificação do quadr...</td>\n",
       "      <td>Discorda.</td>\n",
       "      <td>Concorda.</td>\n",
       "      <td>8390452</td>\n",
       "      <td>BRUNO MARTINELLI</td>\n",
       "      <td>NaN</td>\n",
       "      <td>SECRETARIA MUNICIPAL DE INOVACAO E TECNOLOGIA</td>\n",
       "      <td>15/10/2021</td>\n",
       "      <td>NaN</td>\n",
       "      <td>M</td>\n",
       "      <td>BRANCA</td>\n",
       "      <td>SIM</td>\n",
       "      <td>False</td>\n",
       "      <td>False</td>\n",
       "      <td>True</td>\n",
       "    </tr>\n",
       "    <tr>\n",
       "      <th>3</th>\n",
       "      <td>2023/06/16 2:44:03 PM GMT-3</td>\n",
       "      <td>8359091</td>\n",
       "      <td>Concorda com a proposta de reversão do achatam...</td>\n",
       "      <td>Concorda.</td>\n",
       "      <td>NaN</td>\n",
       "      <td>8359091</td>\n",
       "      <td>DANIEL BRUNO GARCIA</td>\n",
       "      <td>NaN</td>\n",
       "      <td>GABINETE DO PREFEITO</td>\n",
       "      <td>22/06/2016</td>\n",
       "      <td>NaN</td>\n",
       "      <td>M</td>\n",
       "      <td>BRANCA</td>\n",
       "      <td>NAO</td>\n",
       "      <td>False</td>\n",
       "      <td>False</td>\n",
       "      <td>True</td>\n",
       "    </tr>\n",
       "    <tr>\n",
       "      <th>4</th>\n",
       "      <td>2023/06/16 4:23:26 PM GMT-3</td>\n",
       "      <td>8359091</td>\n",
       "      <td>Concorda com a proposta de reversão do achatam...</td>\n",
       "      <td>Concorda.</td>\n",
       "      <td>Concorda.</td>\n",
       "      <td>8359091</td>\n",
       "      <td>DANIEL BRUNO GARCIA</td>\n",
       "      <td>NaN</td>\n",
       "      <td>GABINETE DO PREFEITO</td>\n",
       "      <td>22/06/2016</td>\n",
       "      <td>NaN</td>\n",
       "      <td>M</td>\n",
       "      <td>BRANCA</td>\n",
       "      <td>NAO</td>\n",
       "      <td>False</td>\n",
       "      <td>False</td>\n",
       "      <td>True</td>\n",
       "    </tr>\n",
       "    <tr>\n",
       "      <th>6</th>\n",
       "      <td>2023/06/16 2:49:59 PM GMT-3</td>\n",
       "      <td>8475024</td>\n",
       "      <td>Concorda com a proposta de reversão do achatam...</td>\n",
       "      <td>Concorda.</td>\n",
       "      <td>Concorda.</td>\n",
       "      <td>8475024</td>\n",
       "      <td>RODOLFO FREIRE MAICHE</td>\n",
       "      <td>NaN</td>\n",
       "      <td>SECRETARIA MUNICIPAL DO VERDE E DO MEIO AMBIENTE</td>\n",
       "      <td>09/01/2018</td>\n",
       "      <td>NaN</td>\n",
       "      <td>M</td>\n",
       "      <td>PRETA</td>\n",
       "      <td>NAO</td>\n",
       "      <td>False</td>\n",
       "      <td>False</td>\n",
       "      <td>True</td>\n",
       "    </tr>\n",
       "    <tr>\n",
       "      <th>7</th>\n",
       "      <td>2023/06/16 4:21:37 PM GMT-3</td>\n",
       "      <td>8475024</td>\n",
       "      <td>Concorda com a proposta de unificação do quadr...</td>\n",
       "      <td>Concorda.</td>\n",
       "      <td>Concorda.</td>\n",
       "      <td>8475024</td>\n",
       "      <td>RODOLFO FREIRE MAICHE</td>\n",
       "      <td>NaN</td>\n",
       "      <td>SECRETARIA MUNICIPAL DO VERDE E DO MEIO AMBIENTE</td>\n",
       "      <td>09/01/2018</td>\n",
       "      <td>NaN</td>\n",
       "      <td>M</td>\n",
       "      <td>PRETA</td>\n",
       "      <td>NAO</td>\n",
       "      <td>False</td>\n",
       "      <td>False</td>\n",
       "      <td>True</td>\n",
       "    </tr>\n",
       "  </tbody>\n",
       "</table>\n",
       "</div>"
      ],
      "text/plain": [
       "                     Timestamp       RF  \\\n",
       "0  2023/06/16 2:40:20 PM GMT-3  8390452   \n",
       "1  2023/06/16 3:07:59 PM GMT-3  8390452   \n",
       "2  2023/06/17 6:52:49 PM GMT-3  8390452   \n",
       "3  2023/06/16 2:44:03 PM GMT-3  8359091   \n",
       "4  2023/06/16 4:23:26 PM GMT-3  8359091   \n",
       "6  2023/06/16 2:49:59 PM GMT-3  8475024   \n",
       "7  2023/06/16 4:21:37 PM GMT-3  8475024   \n",
       "\n",
       "  Em relação às propostas de recuperação salarial, você:  \\\n",
       "0  Concorda com a proposta de reversão do achatam...       \n",
       "1  Concorda com a proposta de reversão do achatam...       \n",
       "2  Concorda com a proposta de unificação do quadr...       \n",
       "3  Concorda com a proposta de reversão do achatam...       \n",
       "4  Concorda com a proposta de reversão do achatam...       \n",
       "6  Concorda com a proposta de reversão do achatam...       \n",
       "7  Concorda com a proposta de unificação do quadr...       \n",
       "\n",
       "  Em relação à proposta de remoção da cláusula de limite para as cessões sem prejuízo dos vencimentos você:  \\\n",
       "0                                          Discorda.                                                          \n",
       "1                                          Discorda.                                                          \n",
       "2                                          Discorda.                                                          \n",
       "3                                          Concorda.                                                          \n",
       "4                                          Concorda.                                                          \n",
       "6                                          Concorda.                                                          \n",
       "7                                          Concorda.                                                          \n",
       "\n",
       "  Em relação à proposta de remoção da cláusula de impedimento de ocupar cargos em comissão durante o estágio probatório você:  \\\n",
       "0                                                NaN                                                                            \n",
       "1                                          Concorda.                                                                            \n",
       "2                                          Concorda.                                                                            \n",
       "3                                                NaN                                                                            \n",
       "4                                          Concorda.                                                                            \n",
       "6                                          Concorda.                                                                            \n",
       "7                                          Concorda.                                                                            \n",
       "\n",
       "  REGISTRO                   NOME CARGO_COMISSAO  \\\n",
       "0  8390452       BRUNO MARTINELLI            NaN   \n",
       "1  8390452       BRUNO MARTINELLI            NaN   \n",
       "2  8390452       BRUNO MARTINELLI            NaN   \n",
       "3  8359091    DANIEL BRUNO GARCIA            NaN   \n",
       "4  8359091    DANIEL BRUNO GARCIA            NaN   \n",
       "6  8475024  RODOLFO FREIRE MAICHE            NaN   \n",
       "7  8475024  RODOLFO FREIRE MAICHE            NaN   \n",
       "\n",
       "                                     SECRET_SUBPREF DATA_INICIO_EXERC  \\\n",
       "0     SECRETARIA MUNICIPAL DE INOVACAO E TECNOLOGIA        15/10/2021   \n",
       "1     SECRETARIA MUNICIPAL DE INOVACAO E TECNOLOGIA        15/10/2021   \n",
       "2     SECRETARIA MUNICIPAL DE INOVACAO E TECNOLOGIA        15/10/2021   \n",
       "3                              GABINETE DO PREFEITO        22/06/2016   \n",
       "4                              GABINETE DO PREFEITO        22/06/2016   \n",
       "6  SECRETARIA MUNICIPAL DO VERDE E DO MEIO AMBIENTE        09/01/2018   \n",
       "7  SECRETARIA MUNICIPAL DO VERDE E DO MEIO AMBIENTE        09/01/2018   \n",
       "\n",
       "  ORGAO_EXT SEXO    RACA DEFICIENTE  rf_inexistente  abstencao  voto_duplicado  \n",
       "0       NaN    M  BRANCA        SIM           False      False            True  \n",
       "1       NaN    M  BRANCA        SIM           False      False            True  \n",
       "2       NaN    M  BRANCA        SIM           False      False            True  \n",
       "3       NaN    M  BRANCA        NAO           False      False            True  \n",
       "4       NaN    M  BRANCA        NAO           False      False            True  \n",
       "6       NaN    M   PRETA        NAO           False      False            True  \n",
       "7       NaN    M   PRETA        NAO           False      False            True  "
      ]
     },
     "execution_count": 41,
     "metadata": {},
     "output_type": "execute_result"
    }
   ],
   "source": [
    "votos_join[votos_join['voto_duplicado']]"
   ]
  },
  {
   "cell_type": "code",
   "execution_count": 42,
   "id": "3120b3ee-13ee-4046-84c0-896d40fc1e2b",
   "metadata": {},
   "outputs": [],
   "source": [
    "duplicados = votos_join[votos_join['voto_duplicado']]"
   ]
  },
  {
   "cell_type": "markdown",
   "id": "80c1a1c8-2281-4b84-8242-3002acb37334",
   "metadata": {},
   "source": [
    "Abaixo checo se algum voto duplicado é de fato duplicado ou se houve uma mudança na votação.\n",
    "\n",
    "Tenho que desconsiderar a coluna de timestamp, porque ela certamente muda de um registro para outro.\n",
    "\n",
    "Como vemos, não há linha inteiramente duplicada, de modo que houve mudança no voto dos votos duplicados."
   ]
  },
  {
   "cell_type": "code",
   "execution_count": 43,
   "id": "25bb773c-3638-46c6-9ad0-dcebda4b0e5a",
   "metadata": {},
   "outputs": [
    {
     "data": {
      "text/plain": [
       "False"
      ]
     },
     "execution_count": 43,
     "metadata": {},
     "output_type": "execute_result"
    }
   ],
   "source": [
    "duplicados.drop('Timestamp', axis=1).duplicated().any()"
   ]
  },
  {
   "cell_type": "code",
   "execution_count": 44,
   "id": "8cbcb830-a980-47f1-aca9-e0fc91f26969",
   "metadata": {},
   "outputs": [
    {
     "data": {
      "text/plain": [
       "dtype('O')"
      ]
     },
     "execution_count": 44,
     "metadata": {},
     "output_type": "execute_result"
    }
   ],
   "source": [
    "votos_join['Timestamp'].dtype"
   ]
  },
  {
   "cell_type": "code",
   "execution_count": 45,
   "id": "2fa593ea-50b9-475c-98e1-a992c9a63e61",
   "metadata": {},
   "outputs": [],
   "source": [
    "votos_join['Timestamp'] = pd.to_datetime(votos_join['Timestamp'])"
   ]
  },
  {
   "cell_type": "markdown",
   "id": "178f0218-829a-437a-bffc-7d433cb2b1e7",
   "metadata": {},
   "source": [
    "Tivemos votos ao longo do fim de semana (o que é ok, só fechei a votação hoje de manhã)."
   ]
  },
  {
   "cell_type": "code",
   "execution_count": 46,
   "id": "5f00c588-b0e6-4c84-b399-6d91f2ce2ea6",
   "metadata": {},
   "outputs": [
    {
     "data": {
      "text/plain": [
       "array([16., 17., 18., nan])"
      ]
     },
     "execution_count": 46,
     "metadata": {},
     "output_type": "execute_result"
    }
   ],
   "source": [
    "votos_join['Timestamp'].dt.day.unique()"
   ]
  },
  {
   "cell_type": "code",
   "execution_count": 47,
   "id": "997203f9-bab5-4d50-91b9-f9c2cae011a7",
   "metadata": {},
   "outputs": [
    {
     "data": {
      "text/plain": [
       "array([ 6., nan])"
      ]
     },
     "execution_count": 47,
     "metadata": {},
     "output_type": "execute_result"
    }
   ],
   "source": [
    "votos_join['Timestamp'].dt.month.unique()"
   ]
  },
  {
   "cell_type": "markdown",
   "id": "21edfc20-bd5e-480a-9a0d-322855a95bda",
   "metadata": {},
   "source": [
    "Vou ordenar os votos pela ordem inversa da hora de registro (ou seja, os últimos votos primeiro)."
   ]
  },
  {
   "cell_type": "code",
   "execution_count": 48,
   "id": "616bc4a7-d5c5-40eb-a9d5-2aa2d3802919",
   "metadata": {},
   "outputs": [],
   "source": [
    "votos_join.sort_values(by='Timestamp', ascending=False, inplace=True)"
   ]
  },
  {
   "cell_type": "code",
   "execution_count": 49,
   "id": "5ad471e6-2632-4f63-8594-3094aff61134",
   "metadata": {},
   "outputs": [
    {
     "data": {
      "text/html": [
       "<div>\n",
       "<style scoped>\n",
       "    .dataframe tbody tr th:only-of-type {\n",
       "        vertical-align: middle;\n",
       "    }\n",
       "\n",
       "    .dataframe tbody tr th {\n",
       "        vertical-align: top;\n",
       "    }\n",
       "\n",
       "    .dataframe thead th {\n",
       "        text-align: right;\n",
       "    }\n",
       "</style>\n",
       "<table border=\"1\" class=\"dataframe\">\n",
       "  <thead>\n",
       "    <tr style=\"text-align: right;\">\n",
       "      <th></th>\n",
       "      <th>Timestamp</th>\n",
       "      <th>RF</th>\n",
       "      <th>Em relação às propostas de recuperação salarial, você:</th>\n",
       "      <th>Em relação à proposta de remoção da cláusula de limite para as cessões sem prejuízo dos vencimentos você:</th>\n",
       "      <th>Em relação à proposta de remoção da cláusula de impedimento de ocupar cargos em comissão durante o estágio probatório você:</th>\n",
       "      <th>REGISTRO</th>\n",
       "      <th>NOME</th>\n",
       "      <th>CARGO_COMISSAO</th>\n",
       "      <th>SECRET_SUBPREF</th>\n",
       "      <th>DATA_INICIO_EXERC</th>\n",
       "      <th>ORGAO_EXT</th>\n",
       "      <th>SEXO</th>\n",
       "      <th>RACA</th>\n",
       "      <th>DEFICIENTE</th>\n",
       "      <th>rf_inexistente</th>\n",
       "      <th>abstencao</th>\n",
       "      <th>voto_duplicado</th>\n",
       "    </tr>\n",
       "  </thead>\n",
       "  <tbody>\n",
       "    <tr>\n",
       "      <th>74</th>\n",
       "      <td>2023-06-18 01:01:46+03:00</td>\n",
       "      <td>8896968</td>\n",
       "      <td>Concorda com a proposta de unificação do quadr...</td>\n",
       "      <td>Concorda.</td>\n",
       "      <td>Concorda.</td>\n",
       "      <td>8896968</td>\n",
       "      <td>JOAO BONETT NETO</td>\n",
       "      <td>NaN</td>\n",
       "      <td>SECRETARIA MUNICIPAL DE MOBILIDADE E TRANSITO</td>\n",
       "      <td>14/10/2021</td>\n",
       "      <td>NaN</td>\n",
       "      <td>M</td>\n",
       "      <td>BRANCA</td>\n",
       "      <td>NAO</td>\n",
       "      <td>False</td>\n",
       "      <td>False</td>\n",
       "      <td>False</td>\n",
       "    </tr>\n",
       "    <tr>\n",
       "      <th>73</th>\n",
       "      <td>2023-06-18 00:14:03+03:00</td>\n",
       "      <td>8358931</td>\n",
       "      <td>Concorda com a proposta de unificação do quadr...</td>\n",
       "      <td>Concorda.</td>\n",
       "      <td>Concorda.</td>\n",
       "      <td>8358931</td>\n",
       "      <td>LIA PALM</td>\n",
       "      <td>COORDENADOR II</td>\n",
       "      <td>SECRETARIA MUNICIPAL DE DESENVOLVIMENTO ECONOMICO</td>\n",
       "      <td>24/06/2016</td>\n",
       "      <td>NaN</td>\n",
       "      <td>F</td>\n",
       "      <td>BRANCA</td>\n",
       "      <td>NAO</td>\n",
       "      <td>False</td>\n",
       "      <td>False</td>\n",
       "      <td>False</td>\n",
       "    </tr>\n",
       "    <tr>\n",
       "      <th>72</th>\n",
       "      <td>2023-06-17 20:28:21+03:00</td>\n",
       "      <td>8894221</td>\n",
       "      <td>Concorda com a proposta de unificação do quadr...</td>\n",
       "      <td>Prefere se abster de votar.</td>\n",
       "      <td>Concorda.</td>\n",
       "      <td>8894221</td>\n",
       "      <td>LEANDRO DANIEL SANTOS CARVALHO</td>\n",
       "      <td>NaN</td>\n",
       "      <td>SECRETARIA MUNICIPAL DE EDUCACAO</td>\n",
       "      <td>03/11/2021</td>\n",
       "      <td>NaN</td>\n",
       "      <td>M</td>\n",
       "      <td>BRANCA</td>\n",
       "      <td>NAO</td>\n",
       "      <td>False</td>\n",
       "      <td>False</td>\n",
       "      <td>False</td>\n",
       "    </tr>\n",
       "    <tr>\n",
       "      <th>71</th>\n",
       "      <td>2023-06-17 20:18:21+03:00</td>\n",
       "      <td>8907536</td>\n",
       "      <td>Concorda com a proposta de unificação do quadr...</td>\n",
       "      <td>Concorda.</td>\n",
       "      <td>Concorda.</td>\n",
       "      <td>8907536</td>\n",
       "      <td>KIM FERREIRA DE SOUZA</td>\n",
       "      <td>NaN</td>\n",
       "      <td>SECRETARIA DO GOVERNO MUNICIPAL</td>\n",
       "      <td>17/12/2021</td>\n",
       "      <td>NaN</td>\n",
       "      <td>M</td>\n",
       "      <td>BRANCA</td>\n",
       "      <td>NAO</td>\n",
       "      <td>False</td>\n",
       "      <td>False</td>\n",
       "      <td>False</td>\n",
       "    </tr>\n",
       "    <tr>\n",
       "      <th>2</th>\n",
       "      <td>2023-06-17 18:52:49+03:00</td>\n",
       "      <td>8390452</td>\n",
       "      <td>Concorda com a proposta de unificação do quadr...</td>\n",
       "      <td>Discorda.</td>\n",
       "      <td>Concorda.</td>\n",
       "      <td>8390452</td>\n",
       "      <td>BRUNO MARTINELLI</td>\n",
       "      <td>NaN</td>\n",
       "      <td>SECRETARIA MUNICIPAL DE INOVACAO E TECNOLOGIA</td>\n",
       "      <td>15/10/2021</td>\n",
       "      <td>NaN</td>\n",
       "      <td>M</td>\n",
       "      <td>BRANCA</td>\n",
       "      <td>SIM</td>\n",
       "      <td>False</td>\n",
       "      <td>False</td>\n",
       "      <td>True</td>\n",
       "    </tr>\n",
       "  </tbody>\n",
       "</table>\n",
       "</div>"
      ],
      "text/plain": [
       "                   Timestamp       RF  \\\n",
       "74 2023-06-18 01:01:46+03:00  8896968   \n",
       "73 2023-06-18 00:14:03+03:00  8358931   \n",
       "72 2023-06-17 20:28:21+03:00  8894221   \n",
       "71 2023-06-17 20:18:21+03:00  8907536   \n",
       "2  2023-06-17 18:52:49+03:00  8390452   \n",
       "\n",
       "   Em relação às propostas de recuperação salarial, você:  \\\n",
       "74  Concorda com a proposta de unificação do quadr...       \n",
       "73  Concorda com a proposta de unificação do quadr...       \n",
       "72  Concorda com a proposta de unificação do quadr...       \n",
       "71  Concorda com a proposta de unificação do quadr...       \n",
       "2   Concorda com a proposta de unificação do quadr...       \n",
       "\n",
       "   Em relação à proposta de remoção da cláusula de limite para as cessões sem prejuízo dos vencimentos você:  \\\n",
       "74                                          Concorda.                                                          \n",
       "73                                          Concorda.                                                          \n",
       "72                        Prefere se abster de votar.                                                          \n",
       "71                                          Concorda.                                                          \n",
       "2                                           Discorda.                                                          \n",
       "\n",
       "   Em relação à proposta de remoção da cláusula de impedimento de ocupar cargos em comissão durante o estágio probatório você:  \\\n",
       "74                                          Concorda.                                                                            \n",
       "73                                          Concorda.                                                                            \n",
       "72                                          Concorda.                                                                            \n",
       "71                                          Concorda.                                                                            \n",
       "2                                           Concorda.                                                                            \n",
       "\n",
       "   REGISTRO                            NOME  CARGO_COMISSAO  \\\n",
       "74  8896968                JOAO BONETT NETO             NaN   \n",
       "73  8358931                        LIA PALM  COORDENADOR II   \n",
       "72  8894221  LEANDRO DANIEL SANTOS CARVALHO             NaN   \n",
       "71  8907536           KIM FERREIRA DE SOUZA             NaN   \n",
       "2   8390452                BRUNO MARTINELLI             NaN   \n",
       "\n",
       "                                       SECRET_SUBPREF DATA_INICIO_EXERC  \\\n",
       "74      SECRETARIA MUNICIPAL DE MOBILIDADE E TRANSITO        14/10/2021   \n",
       "73  SECRETARIA MUNICIPAL DE DESENVOLVIMENTO ECONOMICO        24/06/2016   \n",
       "72                   SECRETARIA MUNICIPAL DE EDUCACAO        03/11/2021   \n",
       "71                    SECRETARIA DO GOVERNO MUNICIPAL        17/12/2021   \n",
       "2       SECRETARIA MUNICIPAL DE INOVACAO E TECNOLOGIA        15/10/2021   \n",
       "\n",
       "   ORGAO_EXT SEXO    RACA DEFICIENTE  rf_inexistente  abstencao  \\\n",
       "74       NaN    M  BRANCA        NAO           False      False   \n",
       "73       NaN    F  BRANCA        NAO           False      False   \n",
       "72       NaN    M  BRANCA        NAO           False      False   \n",
       "71       NaN    M  BRANCA        NAO           False      False   \n",
       "2        NaN    M  BRANCA        SIM           False      False   \n",
       "\n",
       "    voto_duplicado  \n",
       "74           False  \n",
       "73           False  \n",
       "72           False  \n",
       "71           False  \n",
       "2             True  "
      ]
     },
     "execution_count": 49,
     "metadata": {},
     "output_type": "execute_result"
    }
   ],
   "source": [
    "votos_join.head()"
   ]
  },
  {
   "cell_type": "code",
   "execution_count": 50,
   "id": "43df07d4-3d1f-4f37-a02e-960bfc79a620",
   "metadata": {},
   "outputs": [],
   "source": [
    "votos_join = votos_join.reset_index(drop=True)"
   ]
  },
  {
   "cell_type": "markdown",
   "id": "6b57ab19-a642-4deb-9681-d93b6e74088d",
   "metadata": {},
   "source": [
    "Checando se o primeiro voto é de fato o último a ser registrado."
   ]
  },
  {
   "cell_type": "code",
   "execution_count": 51,
   "id": "427995df-6064-4ad2-983b-d8e8e71e2b85",
   "metadata": {},
   "outputs": [
    {
     "data": {
      "text/plain": [
       "True"
      ]
     },
     "execution_count": 51,
     "metadata": {},
     "output_type": "execute_result"
    }
   ],
   "source": [
    "votos_join.loc[0,'Timestamp']==votos_join['Timestamp'].max()"
   ]
  },
  {
   "cell_type": "markdown",
   "id": "a3dfa1b9-148a-4540-83e7-39b1c3c5d775",
   "metadata": {},
   "source": [
    "Agora preciso preencher o RF dos faltantes. Por que se não o valor \"nulo\" seria identificado como um valor duplicado."
   ]
  },
  {
   "cell_type": "code",
   "execution_count": 52,
   "id": "59070ba7-bb4f-42f9-9693-f1538397700d",
   "metadata": {},
   "outputs": [],
   "source": [
    "votos_join['RF'] = votos_join.apply(lambda row: row['RF'] if not pd.isnull(row['RF'])\n",
    "                                   else row['REGISTRO'], axis=1)"
   ]
  },
  {
   "cell_type": "code",
   "execution_count": 53,
   "id": "0f67c909-4b07-4940-9be6-eb5f3c495199",
   "metadata": {},
   "outputs": [
    {
     "data": {
      "text/plain": [
       "False"
      ]
     },
     "execution_count": 53,
     "metadata": {},
     "output_type": "execute_result"
    }
   ],
   "source": [
    "votos_join['RF'].isnull().any()"
   ]
  },
  {
   "cell_type": "markdown",
   "id": "277d600f-3752-47db-b841-4732ed634ca4",
   "metadata": {},
   "source": [
    "Assim ficamos com os 4 votos duplicados de anteriormente"
   ]
  },
  {
   "cell_type": "code",
   "execution_count": 54,
   "id": "335cbfe3-64ce-4111-8e4b-92ec67436752",
   "metadata": {},
   "outputs": [
    {
     "data": {
      "text/plain": [
       "4"
      ]
     },
     "execution_count": 54,
     "metadata": {},
     "output_type": "execute_result"
    }
   ],
   "source": [
    "votos_join['RF'].duplicated().sum()"
   ]
  },
  {
   "cell_type": "markdown",
   "id": "98ea212d-4587-422e-bc45-06e37446f811",
   "metadata": {},
   "source": [
    "E podemos dropá-los, mantendo apenas o primeiro (que será o último voto feito, de acordo com nosso ordenamento)."
   ]
  },
  {
   "cell_type": "code",
   "execution_count": 55,
   "id": "2a4de6d2-e0bf-421e-bcd0-4084a04b42d0",
   "metadata": {},
   "outputs": [],
   "source": [
    "votos_join = votos_join.drop_duplicates('RF', keep='first')"
   ]
  },
  {
   "cell_type": "code",
   "execution_count": 56,
   "id": "fb9a5429-8132-4dee-8f73-4adf329c6f52",
   "metadata": {},
   "outputs": [
    {
     "data": {
      "text/plain": [
       "False"
      ]
     },
     "execution_count": 56,
     "metadata": {},
     "output_type": "execute_result"
    }
   ],
   "source": [
    "votos_join['RF'].duplicated().any()"
   ]
  },
  {
   "cell_type": "markdown",
   "id": "b52d9869-a5b6-459b-b6c7-537789ff3423",
   "metadata": {},
   "source": [
    "Os votos que foram mantidos são aqueles cujo RF está na relação de votos duplicados."
   ]
  },
  {
   "cell_type": "code",
   "execution_count": 57,
   "id": "8f43c07c-9472-40a5-96df-f8153ba029e8",
   "metadata": {
    "tags": []
   },
   "outputs": [
    {
     "data": {
      "text/html": [
       "<div>\n",
       "<style scoped>\n",
       "    .dataframe tbody tr th:only-of-type {\n",
       "        vertical-align: middle;\n",
       "    }\n",
       "\n",
       "    .dataframe tbody tr th {\n",
       "        vertical-align: top;\n",
       "    }\n",
       "\n",
       "    .dataframe thead th {\n",
       "        text-align: right;\n",
       "    }\n",
       "</style>\n",
       "<table border=\"1\" class=\"dataframe\">\n",
       "  <thead>\n",
       "    <tr style=\"text-align: right;\">\n",
       "      <th></th>\n",
       "      <th>Timestamp</th>\n",
       "      <th>RF</th>\n",
       "      <th>Em relação às propostas de recuperação salarial, você:</th>\n",
       "      <th>Em relação à proposta de remoção da cláusula de limite para as cessões sem prejuízo dos vencimentos você:</th>\n",
       "      <th>Em relação à proposta de remoção da cláusula de impedimento de ocupar cargos em comissão durante o estágio probatório você:</th>\n",
       "      <th>REGISTRO</th>\n",
       "      <th>NOME</th>\n",
       "      <th>CARGO_COMISSAO</th>\n",
       "      <th>SECRET_SUBPREF</th>\n",
       "      <th>DATA_INICIO_EXERC</th>\n",
       "      <th>ORGAO_EXT</th>\n",
       "      <th>SEXO</th>\n",
       "      <th>RACA</th>\n",
       "      <th>DEFICIENTE</th>\n",
       "      <th>rf_inexistente</th>\n",
       "      <th>abstencao</th>\n",
       "      <th>voto_duplicado</th>\n",
       "    </tr>\n",
       "  </thead>\n",
       "  <tbody>\n",
       "    <tr>\n",
       "      <th>0</th>\n",
       "      <td>2023/06/16 2:40:20 PM GMT-3</td>\n",
       "      <td>8390452</td>\n",
       "      <td>Concorda com a proposta de reversão do achatam...</td>\n",
       "      <td>Discorda.</td>\n",
       "      <td>NaN</td>\n",
       "      <td>8390452</td>\n",
       "      <td>BRUNO MARTINELLI</td>\n",
       "      <td>NaN</td>\n",
       "      <td>SECRETARIA MUNICIPAL DE INOVACAO E TECNOLOGIA</td>\n",
       "      <td>15/10/2021</td>\n",
       "      <td>NaN</td>\n",
       "      <td>M</td>\n",
       "      <td>BRANCA</td>\n",
       "      <td>SIM</td>\n",
       "      <td>False</td>\n",
       "      <td>False</td>\n",
       "      <td>True</td>\n",
       "    </tr>\n",
       "    <tr>\n",
       "      <th>1</th>\n",
       "      <td>2023/06/16 3:07:59 PM GMT-3</td>\n",
       "      <td>8390452</td>\n",
       "      <td>Concorda com a proposta de reversão do achatam...</td>\n",
       "      <td>Discorda.</td>\n",
       "      <td>Concorda.</td>\n",
       "      <td>8390452</td>\n",
       "      <td>BRUNO MARTINELLI</td>\n",
       "      <td>NaN</td>\n",
       "      <td>SECRETARIA MUNICIPAL DE INOVACAO E TECNOLOGIA</td>\n",
       "      <td>15/10/2021</td>\n",
       "      <td>NaN</td>\n",
       "      <td>M</td>\n",
       "      <td>BRANCA</td>\n",
       "      <td>SIM</td>\n",
       "      <td>False</td>\n",
       "      <td>False</td>\n",
       "      <td>True</td>\n",
       "    </tr>\n",
       "    <tr>\n",
       "      <th>2</th>\n",
       "      <td>2023/06/17 6:52:49 PM GMT-3</td>\n",
       "      <td>8390452</td>\n",
       "      <td>Concorda com a proposta de unificação do quadr...</td>\n",
       "      <td>Discorda.</td>\n",
       "      <td>Concorda.</td>\n",
       "      <td>8390452</td>\n",
       "      <td>BRUNO MARTINELLI</td>\n",
       "      <td>NaN</td>\n",
       "      <td>SECRETARIA MUNICIPAL DE INOVACAO E TECNOLOGIA</td>\n",
       "      <td>15/10/2021</td>\n",
       "      <td>NaN</td>\n",
       "      <td>M</td>\n",
       "      <td>BRANCA</td>\n",
       "      <td>SIM</td>\n",
       "      <td>False</td>\n",
       "      <td>False</td>\n",
       "      <td>True</td>\n",
       "    </tr>\n",
       "    <tr>\n",
       "      <th>3</th>\n",
       "      <td>2023/06/16 2:44:03 PM GMT-3</td>\n",
       "      <td>8359091</td>\n",
       "      <td>Concorda com a proposta de reversão do achatam...</td>\n",
       "      <td>Concorda.</td>\n",
       "      <td>NaN</td>\n",
       "      <td>8359091</td>\n",
       "      <td>DANIEL BRUNO GARCIA</td>\n",
       "      <td>NaN</td>\n",
       "      <td>GABINETE DO PREFEITO</td>\n",
       "      <td>22/06/2016</td>\n",
       "      <td>NaN</td>\n",
       "      <td>M</td>\n",
       "      <td>BRANCA</td>\n",
       "      <td>NAO</td>\n",
       "      <td>False</td>\n",
       "      <td>False</td>\n",
       "      <td>True</td>\n",
       "    </tr>\n",
       "    <tr>\n",
       "      <th>4</th>\n",
       "      <td>2023/06/16 4:23:26 PM GMT-3</td>\n",
       "      <td>8359091</td>\n",
       "      <td>Concorda com a proposta de reversão do achatam...</td>\n",
       "      <td>Concorda.</td>\n",
       "      <td>Concorda.</td>\n",
       "      <td>8359091</td>\n",
       "      <td>DANIEL BRUNO GARCIA</td>\n",
       "      <td>NaN</td>\n",
       "      <td>GABINETE DO PREFEITO</td>\n",
       "      <td>22/06/2016</td>\n",
       "      <td>NaN</td>\n",
       "      <td>M</td>\n",
       "      <td>BRANCA</td>\n",
       "      <td>NAO</td>\n",
       "      <td>False</td>\n",
       "      <td>False</td>\n",
       "      <td>True</td>\n",
       "    </tr>\n",
       "    <tr>\n",
       "      <th>6</th>\n",
       "      <td>2023/06/16 2:49:59 PM GMT-3</td>\n",
       "      <td>8475024</td>\n",
       "      <td>Concorda com a proposta de reversão do achatam...</td>\n",
       "      <td>Concorda.</td>\n",
       "      <td>Concorda.</td>\n",
       "      <td>8475024</td>\n",
       "      <td>RODOLFO FREIRE MAICHE</td>\n",
       "      <td>NaN</td>\n",
       "      <td>SECRETARIA MUNICIPAL DO VERDE E DO MEIO AMBIENTE</td>\n",
       "      <td>09/01/2018</td>\n",
       "      <td>NaN</td>\n",
       "      <td>M</td>\n",
       "      <td>PRETA</td>\n",
       "      <td>NAO</td>\n",
       "      <td>False</td>\n",
       "      <td>False</td>\n",
       "      <td>True</td>\n",
       "    </tr>\n",
       "    <tr>\n",
       "      <th>7</th>\n",
       "      <td>2023/06/16 4:21:37 PM GMT-3</td>\n",
       "      <td>8475024</td>\n",
       "      <td>Concorda com a proposta de unificação do quadr...</td>\n",
       "      <td>Concorda.</td>\n",
       "      <td>Concorda.</td>\n",
       "      <td>8475024</td>\n",
       "      <td>RODOLFO FREIRE MAICHE</td>\n",
       "      <td>NaN</td>\n",
       "      <td>SECRETARIA MUNICIPAL DO VERDE E DO MEIO AMBIENTE</td>\n",
       "      <td>09/01/2018</td>\n",
       "      <td>NaN</td>\n",
       "      <td>M</td>\n",
       "      <td>PRETA</td>\n",
       "      <td>NAO</td>\n",
       "      <td>False</td>\n",
       "      <td>False</td>\n",
       "      <td>True</td>\n",
       "    </tr>\n",
       "  </tbody>\n",
       "</table>\n",
       "</div>"
      ],
      "text/plain": [
       "                     Timestamp       RF  \\\n",
       "0  2023/06/16 2:40:20 PM GMT-3  8390452   \n",
       "1  2023/06/16 3:07:59 PM GMT-3  8390452   \n",
       "2  2023/06/17 6:52:49 PM GMT-3  8390452   \n",
       "3  2023/06/16 2:44:03 PM GMT-3  8359091   \n",
       "4  2023/06/16 4:23:26 PM GMT-3  8359091   \n",
       "6  2023/06/16 2:49:59 PM GMT-3  8475024   \n",
       "7  2023/06/16 4:21:37 PM GMT-3  8475024   \n",
       "\n",
       "  Em relação às propostas de recuperação salarial, você:  \\\n",
       "0  Concorda com a proposta de reversão do achatam...       \n",
       "1  Concorda com a proposta de reversão do achatam...       \n",
       "2  Concorda com a proposta de unificação do quadr...       \n",
       "3  Concorda com a proposta de reversão do achatam...       \n",
       "4  Concorda com a proposta de reversão do achatam...       \n",
       "6  Concorda com a proposta de reversão do achatam...       \n",
       "7  Concorda com a proposta de unificação do quadr...       \n",
       "\n",
       "  Em relação à proposta de remoção da cláusula de limite para as cessões sem prejuízo dos vencimentos você:  \\\n",
       "0                                          Discorda.                                                          \n",
       "1                                          Discorda.                                                          \n",
       "2                                          Discorda.                                                          \n",
       "3                                          Concorda.                                                          \n",
       "4                                          Concorda.                                                          \n",
       "6                                          Concorda.                                                          \n",
       "7                                          Concorda.                                                          \n",
       "\n",
       "  Em relação à proposta de remoção da cláusula de impedimento de ocupar cargos em comissão durante o estágio probatório você:  \\\n",
       "0                                                NaN                                                                            \n",
       "1                                          Concorda.                                                                            \n",
       "2                                          Concorda.                                                                            \n",
       "3                                                NaN                                                                            \n",
       "4                                          Concorda.                                                                            \n",
       "6                                          Concorda.                                                                            \n",
       "7                                          Concorda.                                                                            \n",
       "\n",
       "  REGISTRO                   NOME CARGO_COMISSAO  \\\n",
       "0  8390452       BRUNO MARTINELLI            NaN   \n",
       "1  8390452       BRUNO MARTINELLI            NaN   \n",
       "2  8390452       BRUNO MARTINELLI            NaN   \n",
       "3  8359091    DANIEL BRUNO GARCIA            NaN   \n",
       "4  8359091    DANIEL BRUNO GARCIA            NaN   \n",
       "6  8475024  RODOLFO FREIRE MAICHE            NaN   \n",
       "7  8475024  RODOLFO FREIRE MAICHE            NaN   \n",
       "\n",
       "                                     SECRET_SUBPREF DATA_INICIO_EXERC  \\\n",
       "0     SECRETARIA MUNICIPAL DE INOVACAO E TECNOLOGIA        15/10/2021   \n",
       "1     SECRETARIA MUNICIPAL DE INOVACAO E TECNOLOGIA        15/10/2021   \n",
       "2     SECRETARIA MUNICIPAL DE INOVACAO E TECNOLOGIA        15/10/2021   \n",
       "3                              GABINETE DO PREFEITO        22/06/2016   \n",
       "4                              GABINETE DO PREFEITO        22/06/2016   \n",
       "6  SECRETARIA MUNICIPAL DO VERDE E DO MEIO AMBIENTE        09/01/2018   \n",
       "7  SECRETARIA MUNICIPAL DO VERDE E DO MEIO AMBIENTE        09/01/2018   \n",
       "\n",
       "  ORGAO_EXT SEXO    RACA DEFICIENTE  rf_inexistente  abstencao  voto_duplicado  \n",
       "0       NaN    M  BRANCA        SIM           False      False            True  \n",
       "1       NaN    M  BRANCA        SIM           False      False            True  \n",
       "2       NaN    M  BRANCA        SIM           False      False            True  \n",
       "3       NaN    M  BRANCA        NAO           False      False            True  \n",
       "4       NaN    M  BRANCA        NAO           False      False            True  \n",
       "6       NaN    M   PRETA        NAO           False      False            True  \n",
       "7       NaN    M   PRETA        NAO           False      False            True  "
      ]
     },
     "execution_count": 57,
     "metadata": {},
     "output_type": "execute_result"
    }
   ],
   "source": [
    "duplicados"
   ]
  },
  {
   "cell_type": "code",
   "execution_count": 58,
   "id": "32b53448-da34-4143-aa30-bde4ace7ac3c",
   "metadata": {},
   "outputs": [],
   "source": [
    "#preciso soh converter essa coluna para datetime\n",
    "duplicados['Timestamp'] = pd.to_datetime(duplicados['Timestamp'])"
   ]
  },
  {
   "cell_type": "markdown",
   "id": "d0352274-8be8-437b-a74c-d9a5ade4deed",
   "metadata": {},
   "source": [
    "Agora, vamos checar se os votos que ficaram são sempre mais recentes (ou seja, com um timestamp maior) do que os votos duplicados para aquele RF."
   ]
  },
  {
   "cell_type": "code",
   "execution_count": 59,
   "id": "0bba315e-be45-433e-9f2e-1e1bacb447eb",
   "metadata": {},
   "outputs": [],
   "source": [
    "ficaram = votos_join['RF'].isin(duplicados['RF'])"
   ]
  },
  {
   "cell_type": "code",
   "execution_count": 60,
   "id": "4a9a1fc4-ab71-42b9-9bb7-e303f348da12",
   "metadata": {},
   "outputs": [],
   "source": [
    "votos_ficaram = votos_join[ficaram]"
   ]
  },
  {
   "cell_type": "code",
   "execution_count": 61,
   "id": "f378b41d-e3ab-4a51-9dcb-af5771668f5f",
   "metadata": {},
   "outputs": [],
   "source": [
    "for i, row in votos_ficaram.iterrows():\n",
    "    \n",
    "    #votos duplicados correspondentes ao RF\n",
    "    duplidado_rf = duplicados[duplicados['RF']==row['RF']]\n",
    "    \n",
    "    assert (duplidado_rf['Timestamp'] <= row['Timestamp']).all()"
   ]
  },
  {
   "cell_type": "code",
   "execution_count": 62,
   "id": "58e36521-a10b-4d37-921b-3d75c0362464",
   "metadata": {},
   "outputs": [],
   "source": [
    "votos_join['voto_duplicad_mantido'] = ficaram"
   ]
  },
  {
   "cell_type": "code",
   "execution_count": 63,
   "id": "d80a0281-f0f7-4984-a72c-46c9d68fcbfe",
   "metadata": {},
   "outputs": [
    {
     "data": {
      "text/plain": [
       "True"
      ]
     },
     "execution_count": 63,
     "metadata": {},
     "output_type": "execute_result"
    }
   ],
   "source": [
    "(votos_join['voto_duplicad_mantido'] == votos_join['voto_duplicado']).all()"
   ]
  },
  {
   "cell_type": "code",
   "execution_count": 64,
   "id": "a689e908-8bd4-4141-ac88-4a01ea4a43e6",
   "metadata": {},
   "outputs": [],
   "source": [
    "#não preciso mais dessa coluna\n",
    "votos_join.drop('voto_duplicado', axis=1, inplace=True)"
   ]
  },
  {
   "cell_type": "markdown",
   "id": "dac19449-a689-4d73-a152-2d7f7cc29d1c",
   "metadata": {},
   "source": [
    "Como podemos ver abaixo, foram mantidos 3 votos. Correspondentes aos RFs únicos dos votos duplicados (ou seja, apenas um voto por pessoa)."
   ]
  },
  {
   "cell_type": "code",
   "execution_count": 65,
   "id": "dc994488-c4a8-47ec-af0f-0058e1e63a62",
   "metadata": {},
   "outputs": [
    {
     "data": {
      "text/plain": [
       "3"
      ]
     },
     "execution_count": 65,
     "metadata": {},
     "output_type": "execute_result"
    }
   ],
   "source": [
    "votos_join['voto_duplicad_mantido'].sum()"
   ]
  },
  {
   "cell_type": "code",
   "execution_count": 66,
   "id": "f427af3a-1d15-46a4-b983-1444e99e0ecb",
   "metadata": {},
   "outputs": [
    {
     "data": {
      "text/plain": [
       "3"
      ]
     },
     "execution_count": 66,
     "metadata": {},
     "output_type": "execute_result"
    }
   ],
   "source": [
    "len(duplicados['RF'].unique())"
   ]
  },
  {
   "cell_type": "code",
   "execution_count": 67,
   "id": "835c065a-6d72-4e3e-b7b8-abea7443b10f",
   "metadata": {},
   "outputs": [
    {
     "data": {
      "text/plain": [
       "set()"
      ]
     },
     "execution_count": 67,
     "metadata": {},
     "output_type": "execute_result"
    }
   ],
   "source": [
    "set(duplicados['RF']) - set(votos_join[votos_join['voto_duplicad_mantido']]['RF'])"
   ]
  },
  {
   "cell_type": "code",
   "execution_count": 68,
   "id": "65bfbaa5-4fb2-4ed2-99fa-efee65b62e1c",
   "metadata": {},
   "outputs": [],
   "source": [
    "duplicados.to_csv('votos_duplicados.csv', index=False, sep=';', encoding='utf-8')"
   ]
  },
  {
   "cell_type": "markdown",
   "id": "209a1be3-69e7-42bb-8c11-10038c59c879",
   "metadata": {},
   "source": [
    "### Imputando valor \"ausentes\" para os votos das pessoas ausentes\n",
    "\n",
    "Agora vamos colocar um novo resultado que diz \"ausência\" para os votos das pessoas ausentesvotos_join"
   ]
  },
  {
   "cell_type": "code",
   "execution_count": 69,
   "id": "a09e2e43-763c-4421-bcc5-e10d6fa1a624",
   "metadata": {},
   "outputs": [
    {
     "data": {
      "text/plain": [
       "Index(['Timestamp', 'RF',\n",
       "       'Em relação às propostas de recuperação salarial, você:',\n",
       "       'Em relação à proposta de remoção da cláusula de limite para as cessões sem prejuízo dos vencimentos você:',\n",
       "       'Em relação à proposta de remoção da cláusula de impedimento de ocupar cargos em comissão durante o estágio probatório você:',\n",
       "       'REGISTRO', 'NOME', 'CARGO_COMISSAO', 'SECRET_SUBPREF',\n",
       "       'DATA_INICIO_EXERC', 'ORGAO_EXT', 'SEXO', 'RACA', 'DEFICIENTE',\n",
       "       'rf_inexistente', 'abstencao', 'voto_duplicad_mantido'],\n",
       "      dtype='object')"
      ]
     },
     "execution_count": 69,
     "metadata": {},
     "output_type": "execute_result"
    }
   ],
   "source": [
    "votos_join.columns"
   ]
  },
  {
   "cell_type": "code",
   "execution_count": 70,
   "id": "6b1ef205-b6cf-40b1-b84e-a16fd604bee0",
   "metadata": {},
   "outputs": [],
   "source": [
    "cols_votos = [\n",
    "    'Em relação às propostas de recuperação salarial, você:',\n",
    "    'Em relação à proposta de remoção da cláusula de limite para as cessões sem prejuízo dos vencimentos você:',\n",
    "    'Em relação à proposta de remoção da cláusula de impedimento de ocupar cargos em comissão durante o estágio probatório você:'\n",
    "]"
   ]
  },
  {
   "cell_type": "code",
   "execution_count": 71,
   "id": "436074f4-15f6-4cda-8dec-0cb898667cf1",
   "metadata": {},
   "outputs": [
    {
     "data": {
      "text/html": [
       "<div>\n",
       "<style scoped>\n",
       "    .dataframe tbody tr th:only-of-type {\n",
       "        vertical-align: middle;\n",
       "    }\n",
       "\n",
       "    .dataframe tbody tr th {\n",
       "        vertical-align: top;\n",
       "    }\n",
       "\n",
       "    .dataframe thead th {\n",
       "        text-align: right;\n",
       "    }\n",
       "</style>\n",
       "<table border=\"1\" class=\"dataframe\">\n",
       "  <thead>\n",
       "    <tr style=\"text-align: right;\">\n",
       "      <th></th>\n",
       "      <th>qtd_ausencias</th>\n",
       "    </tr>\n",
       "  </thead>\n",
       "  <tbody>\n",
       "    <tr>\n",
       "      <th>Em relação às propostas de recuperação salarial, você:</th>\n",
       "      <td>78</td>\n",
       "    </tr>\n",
       "    <tr>\n",
       "      <th>Em relação à proposta de remoção da cláusula de limite para as cessões sem prejuízo dos vencimentos você:</th>\n",
       "      <td>78</td>\n",
       "    </tr>\n",
       "    <tr>\n",
       "      <th>Em relação à proposta de remoção da cláusula de impedimento de ocupar cargos em comissão durante o estágio probatório você:</th>\n",
       "      <td>78</td>\n",
       "    </tr>\n",
       "  </tbody>\n",
       "</table>\n",
       "</div>"
      ],
      "text/plain": [
       "                                                    qtd_ausencias\n",
       "Em relação às propostas de recuperação salarial...             78\n",
       "Em relação à proposta de remoção da cláusula de...             78\n",
       "Em relação à proposta de remoção da cláusula de...             78"
      ]
     },
     "execution_count": 71,
     "metadata": {},
     "output_type": "execute_result"
    }
   ],
   "source": [
    "pd.DataFrame(votos_join[cols_votos].isnull().sum()).rename({0 : 'qtd_ausencias'}, axis=1)"
   ]
  },
  {
   "cell_type": "code",
   "execution_count": 72,
   "id": "f2233d32-8018-47ed-8761-598e570f21f6",
   "metadata": {},
   "outputs": [
    {
     "data": {
      "text/plain": [
       "78"
      ]
     },
     "execution_count": 72,
     "metadata": {},
     "output_type": "execute_result"
    }
   ],
   "source": [
    "votos_join['abstencao'].sum()"
   ]
  },
  {
   "cell_type": "code",
   "execution_count": 73,
   "id": "279a1728-d032-4a20-afaa-e8832a478c13",
   "metadata": {},
   "outputs": [],
   "source": [
    "for col in cols_votos:\n",
    "    votos_join[col] = votos_join[col].apply(lambda x: x if not pd.isnull(x) else 'ausencia')"
   ]
  },
  {
   "cell_type": "markdown",
   "id": "d87399cd-c05a-4bcc-97ac-9462f47286d3",
   "metadata": {},
   "source": [
    "Agora resta apenas uma pequena limpeza nos valores nulos para cargo em comissao e orgao externo"
   ]
  },
  {
   "cell_type": "code",
   "execution_count": 74,
   "id": "72a42bb2-764a-45d0-814d-a868d43d5e1a",
   "metadata": {},
   "outputs": [],
   "source": [
    "votos_join['CARGO_COMISSAO'] = votos_join['CARGO_COMISSAO'].apply(\n",
    "                                                lambda x: x if not pd.isnull(x) else 'nenhum')"
   ]
  },
  {
   "cell_type": "code",
   "execution_count": 75,
   "id": "d9e75951-1363-4be9-9d1a-adef74bb3e5e",
   "metadata": {},
   "outputs": [],
   "source": [
    "votos_join['CARGO_COMISSAO'] = votos_join['ORGAO_EXT'].apply(\n",
    "                                                lambda x: x if not pd.isnull(x) else 'nao')"
   ]
  },
  {
   "cell_type": "code",
   "execution_count": 76,
   "id": "ac2cdfec-0107-4d1a-837f-f7703a01294a",
   "metadata": {},
   "outputs": [],
   "source": [
    "df_final = votos_join.reset_index(drop=True).copy()"
   ]
  },
  {
   "cell_type": "code",
   "execution_count": 77,
   "id": "7d138cb3-e764-4172-ab9b-66b552699913",
   "metadata": {},
   "outputs": [],
   "source": [
    "df_final.to_csv('dados_votacao_final.csv', sep=';', index=False, encoding='utf-8')"
   ]
  },
  {
   "cell_type": "markdown",
   "id": "d0b821bd-4235-4753-ae07-fad4428c902c",
   "metadata": {},
   "source": [
    "### Plotagem dos resultados finais\n",
    "\n",
    "Para calcular os resultados finais, precisamos agrupar os dados por coluna.\n",
    "\n",
    "As células abaixo mostram isso."
   ]
  },
  {
   "cell_type": "code",
   "execution_count": 78,
   "id": "36195936-f490-4311-ae72-2b9d916a840e",
   "metadata": {},
   "outputs": [],
   "source": [
    "#coluna de contagem para facilitar os groupbys\n",
    "df_final['count'] = 1"
   ]
  },
  {
   "cell_type": "code",
   "execution_count": 79,
   "id": "e2748dd9-3f36-4e6c-b341-96905a13046c",
   "metadata": {},
   "outputs": [
    {
     "data": {
      "text/plain": [
       "<AxesSubplot:ylabel='Em relação às propostas de recuperação salarial, você:'>"
      ]
     },
     "execution_count": 79,
     "metadata": {},
     "output_type": "execute_result"
    },
    {
     "data": {
      "image/png": "[encoded data removed]",
      "text/plain": [
       "<Figure size 432x288 with 1 Axes>"
      ]
     },
     "metadata": {},
     "output_type": "display_data"
    }
   ],
   "source": [
    "grouped = df_final.groupby(cols_votos[0]).sum()[['count']].sort_values(by='count')\n",
    "grouped.plot.barh()"
   ]
  },
  {
   "cell_type": "code",
   "execution_count": 80,
   "id": "fdd7ec26-c819-4092-8ac5-34832be799cb",
   "metadata": {},
   "outputs": [
    {
     "data": {
      "text/plain": [
       "<AxesSubplot:ylabel='Em relação à proposta de remoção da cláusula de limite para as cessões sem prejuízo dos vencimentos você:'>"
      ]
     },
     "execution_count": 80,
     "metadata": {},
     "output_type": "execute_result"
    },
    {
     "data": {
      "image/png": "[encoded data removed]",
      "text/plain": [
       "<Figure size 432x288 with 1 Axes>"
      ]
     },
     "metadata": {},
     "output_type": "display_data"
    }
   ],
   "source": [
    "grouped = df_final.groupby(cols_votos[1]).sum()[['count']].sort_values(by='count')\n",
    "grouped.plot.barh()"
   ]
  },
  {
   "cell_type": "code",
   "execution_count": 81,
   "id": "bd98874f-8d32-40f6-ad0f-992582773dd6",
   "metadata": {},
   "outputs": [
    {
     "data": {
      "text/plain": [
       "<AxesSubplot:ylabel='Em relação à proposta de remoção da cláusula de impedimento de ocupar cargos em comissão durante o estágio probatório você:'>"
      ]
     },
     "execution_count": 81,
     "metadata": {},
     "output_type": "execute_result"
    },
    {
     "data": {
      "image/png": "[encoded data removed]",
      "text/plain": [
       "<Figure size 432x288 with 1 Axes>"
      ]
     },
     "metadata": {},
     "output_type": "display_data"
    }
   ],
   "source": [
    "grouped = df_final.groupby(cols_votos[2]).sum()[['count']].sort_values(by='count')\n",
    "grouped.plot.barh()"
   ]
  },
  {
   "cell_type": "markdown",
   "id": "a4388950-9522-467c-86e0-006d8550d2b0",
   "metadata": {},
   "source": [
    "Mas a leitura fica muito ruim. Por isso, usarei uma ferramenta interativa."
   ]
  },
  {
   "cell_type": "code",
   "execution_count": 82,
   "id": "23460f95-e007-45d4-a9e2-fe8ecb18f489",
   "metadata": {},
   "outputs": [
    {
     "data": {
      "text/plain": [
       "71"
      ]
     },
     "execution_count": 82,
     "metadata": {},
     "output_type": "execute_result"
    }
   ],
   "source": [
    "(~df_final['abstencao']).sum()"
   ]
  },
  {
   "cell_type": "code",
   "execution_count": 83,
   "id": "1266df33-04ec-473f-a3d1-ca6c91975af5",
   "metadata": {},
   "outputs": [
    {
     "data": {
      "text/plain": [
       "0.5234899328859061"
      ]
     },
     "execution_count": 83,
     "metadata": {},
     "output_type": "execute_result"
    }
   ],
   "source": [
    "df_final['abstencao'].mean()"
   ]
  },
  {
   "cell_type": "code",
   "execution_count": 84,
   "id": "d8398cb5-48cf-4af6-9875-f3ee7ac23980",
   "metadata": {},
   "outputs": [
    {
     "data": {
      "text/plain": [
       "64"
      ]
     },
     "execution_count": 84,
     "metadata": {},
     "output_type": "execute_result"
    }
   ],
   "source": [
    "(~df_final['abstencao'] & ~df_final['rf_inexistente']).sum()"
   ]
  },
  {
   "cell_type": "code",
   "execution_count": null,
   "id": "d62e5993-8793-4e8f-bf7e-2029820e2a90",
   "metadata": {},
   "outputs": [],
   "source": []
  }
 ],
 "metadata": {
  "kernelspec": {
   "display_name": "Python 3",
   "language": "python",
   "name": "python3"
  },
  "language_info": {
   "codemirror_mode": {
    "name": "ipython",
    "version": 3
   },
   "file_extension": ".py",
   "mimetype": "text/x-python",
   "name": "python",
   "nbconvert_exporter": "python",
   "pygments_lexer": "ipython3",
   "version": "3.8.8"
  }
 },
 "nbformat": 4,
 "nbformat_minor": 5
}
